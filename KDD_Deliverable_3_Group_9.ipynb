{
 "cells": [
  {
   "cell_type": "markdown",
   "id": "4276ff45",
   "metadata": {},
   "source": [
    "<h2>Team Members:</h2>\n",
    "    1.Nirush</br> \n",
    "  <br>  2.Sanjana </br>\n",
    "  <br> 3.Sayeesh</br>\n",
    "  <br> 4.Meghana</br>"
   ]
  },
  {
   "cell_type": "markdown",
   "id": "ffb27cd2",
   "metadata": {},
   "source": [
    "<h2> Project Objective </h2>\n",
    "\n",
    "Flight delays are a modern-day problem. Passengers, airlines, and airports all suffer from these delays, which are inconvenient and costly.\n",
    "This project analyzes flight delay data in order to gain a better understanding of how commercial aviation operates and to anticipate when delays are likely."
   ]
  },
  {
   "cell_type": "markdown",
   "id": "1cfb58bf",
   "metadata": {},
   "source": [
    "## CRISM-DM PROCESS"
   ]
  },
  {
   "cell_type": "markdown",
   "id": "85adeb65",
   "metadata": {},
   "source": [
    "### Importing the Dataset"
   ]
  },
  {
   "cell_type": "code",
   "execution_count": 1,
   "id": "70335990",
   "metadata": {},
   "outputs": [],
   "source": [
    "## Importing the necessary libraries :\n",
    "import pandas as pd\n",
    "import numpy as np\n",
    "from matplotlib import pyplot as plt\n",
    "import seaborn as sns\n",
    "from sklearn.preprocessing import StandardScaler\n",
    "from sklearn.model_selection import train_test_split\n",
    "from sklearn.preprocessing import StandardScaler\n",
    "from sklearn.svm import SVC\n",
    "from sklearn.naive_bayes import GaussianNB\n",
    "from sklearn.linear_model import LogisticRegression\n",
    "from sklearn.tree import DecisionTreeClassifier\n",
    "from sklearn.ensemble import RandomForestClassifier\n",
    "from sklearn.metrics import roc_auc_score\n",
    "from sklearn.neighbors import KNeighborsClassifier\n"
   ]
  },
  {
   "cell_type": "code",
   "execution_count": 2,
   "id": "353739ae",
   "metadata": {},
   "outputs": [
    {
     "name": "stderr",
     "output_type": "stream",
     "text": [
      "/Users/sanjana/opt/anaconda3/lib/python3.8/site-packages/IPython/core/interactiveshell.py:3165: DtypeWarning: Columns (7,8) have mixed types.Specify dtype option on import or set low_memory=False.\n",
      "  has_raised = await self.run_ast_nodes(code_ast.body, cell_name,\n"
     ]
    }
   ],
   "source": [
    "## Loading the data :\n",
    "df = pd.read_csv('flights 2.csv')\n",
    "airlines_data = pd.read_csv('airlines.csv')\n",
    "airport_data = pd.read_csv('airports.csv')"
   ]
  },
  {
   "cell_type": "markdown",
   "id": "4a919415",
   "metadata": {},
   "source": [
    "We need to identify the charecteristics of our dataset .For this we use three methods:-\n",
    "<br>info()-Used for identifying the different features and data types in a dataset.\n",
    "<br>shape()-We used this method to get an idea of the rows and columns in a dataframe.\n",
    "<br>head()-We used this method to examine the first few rows of the dataset\n",
    "<br>describe()-We used this method to identify the summary statistic's of all the features of the dataset."
   ]
  },
  {
   "cell_type": "code",
   "execution_count": 3,
   "id": "440d5723",
   "metadata": {},
   "outputs": [
    {
     "name": "stdout",
     "output_type": "stream",
     "text": [
      "<class 'pandas.core.frame.DataFrame'>\n",
      "RangeIndex: 5819079 entries, 0 to 5819078\n",
      "Data columns (total 31 columns):\n",
      " #   Column               Dtype  \n",
      "---  ------               -----  \n",
      " 0   YEAR                 int64  \n",
      " 1   MONTH                int64  \n",
      " 2   DAY                  int64  \n",
      " 3   DAY_OF_WEEK          int64  \n",
      " 4   AIRLINE              object \n",
      " 5   FLIGHT_NUMBER        int64  \n",
      " 6   TAIL_NUMBER          object \n",
      " 7   ORIGIN_AIRPORT       object \n",
      " 8   DESTINATION_AIRPORT  object \n",
      " 9   SCHEDULED_DEPARTURE  int64  \n",
      " 10  DEPARTURE_TIME       float64\n",
      " 11  DEPARTURE_DELAY      float64\n",
      " 12  TAXI_OUT             float64\n",
      " 13  WHEELS_OFF           float64\n",
      " 14  SCHEDULED_TIME       float64\n",
      " 15  ELAPSED_TIME         float64\n",
      " 16  AIR_TIME             float64\n",
      " 17  DISTANCE             int64  \n",
      " 18  WHEELS_ON            float64\n",
      " 19  TAXI_IN              float64\n",
      " 20  SCHEDULED_ARRIVAL    int64  \n",
      " 21  ARRIVAL_TIME         float64\n",
      " 22  ARRIVAL_DELAY        float64\n",
      " 23  DIVERTED             int64  \n",
      " 24  CANCELLED            int64  \n",
      " 25  CANCELLATION_REASON  object \n",
      " 26  AIR_SYSTEM_DELAY     float64\n",
      " 27  SECURITY_DELAY       float64\n",
      " 28  AIRLINE_DELAY        float64\n",
      " 29  LATE_AIRCRAFT_DELAY  float64\n",
      " 30  WEATHER_DELAY        float64\n",
      "dtypes: float64(16), int64(10), object(5)\n",
      "memory usage: 1.3+ GB\n"
     ]
    }
   ],
   "source": [
    "df.info()"
   ]
  },
  {
   "cell_type": "code",
   "execution_count": 4,
   "id": "2cc4d198",
   "metadata": {},
   "outputs": [
    {
     "data": {
      "text/html": [
       "<div>\n",
       "<style scoped>\n",
       "    .dataframe tbody tr th:only-of-type {\n",
       "        vertical-align: middle;\n",
       "    }\n",
       "\n",
       "    .dataframe tbody tr th {\n",
       "        vertical-align: top;\n",
       "    }\n",
       "\n",
       "    .dataframe thead th {\n",
       "        text-align: right;\n",
       "    }\n",
       "</style>\n",
       "<table border=\"1\" class=\"dataframe\">\n",
       "  <thead>\n",
       "    <tr style=\"text-align: right;\">\n",
       "      <th></th>\n",
       "      <th>YEAR</th>\n",
       "      <th>MONTH</th>\n",
       "      <th>DAY</th>\n",
       "      <th>DAY_OF_WEEK</th>\n",
       "      <th>AIRLINE</th>\n",
       "      <th>FLIGHT_NUMBER</th>\n",
       "      <th>TAIL_NUMBER</th>\n",
       "      <th>ORIGIN_AIRPORT</th>\n",
       "      <th>DESTINATION_AIRPORT</th>\n",
       "      <th>SCHEDULED_DEPARTURE</th>\n",
       "      <th>...</th>\n",
       "      <th>ARRIVAL_TIME</th>\n",
       "      <th>ARRIVAL_DELAY</th>\n",
       "      <th>DIVERTED</th>\n",
       "      <th>CANCELLED</th>\n",
       "      <th>CANCELLATION_REASON</th>\n",
       "      <th>AIR_SYSTEM_DELAY</th>\n",
       "      <th>SECURITY_DELAY</th>\n",
       "      <th>AIRLINE_DELAY</th>\n",
       "      <th>LATE_AIRCRAFT_DELAY</th>\n",
       "      <th>WEATHER_DELAY</th>\n",
       "    </tr>\n",
       "  </thead>\n",
       "  <tbody>\n",
       "    <tr>\n",
       "      <th>0</th>\n",
       "      <td>2015</td>\n",
       "      <td>1</td>\n",
       "      <td>1</td>\n",
       "      <td>4</td>\n",
       "      <td>AS</td>\n",
       "      <td>98</td>\n",
       "      <td>N407AS</td>\n",
       "      <td>ANC</td>\n",
       "      <td>SEA</td>\n",
       "      <td>5</td>\n",
       "      <td>...</td>\n",
       "      <td>408.0</td>\n",
       "      <td>-22.0</td>\n",
       "      <td>0</td>\n",
       "      <td>0</td>\n",
       "      <td>NaN</td>\n",
       "      <td>NaN</td>\n",
       "      <td>NaN</td>\n",
       "      <td>NaN</td>\n",
       "      <td>NaN</td>\n",
       "      <td>NaN</td>\n",
       "    </tr>\n",
       "    <tr>\n",
       "      <th>1</th>\n",
       "      <td>2015</td>\n",
       "      <td>1</td>\n",
       "      <td>1</td>\n",
       "      <td>4</td>\n",
       "      <td>AA</td>\n",
       "      <td>2336</td>\n",
       "      <td>N3KUAA</td>\n",
       "      <td>LAX</td>\n",
       "      <td>PBI</td>\n",
       "      <td>10</td>\n",
       "      <td>...</td>\n",
       "      <td>741.0</td>\n",
       "      <td>-9.0</td>\n",
       "      <td>0</td>\n",
       "      <td>0</td>\n",
       "      <td>NaN</td>\n",
       "      <td>NaN</td>\n",
       "      <td>NaN</td>\n",
       "      <td>NaN</td>\n",
       "      <td>NaN</td>\n",
       "      <td>NaN</td>\n",
       "    </tr>\n",
       "    <tr>\n",
       "      <th>2</th>\n",
       "      <td>2015</td>\n",
       "      <td>1</td>\n",
       "      <td>1</td>\n",
       "      <td>4</td>\n",
       "      <td>US</td>\n",
       "      <td>840</td>\n",
       "      <td>N171US</td>\n",
       "      <td>SFO</td>\n",
       "      <td>CLT</td>\n",
       "      <td>20</td>\n",
       "      <td>...</td>\n",
       "      <td>811.0</td>\n",
       "      <td>5.0</td>\n",
       "      <td>0</td>\n",
       "      <td>0</td>\n",
       "      <td>NaN</td>\n",
       "      <td>NaN</td>\n",
       "      <td>NaN</td>\n",
       "      <td>NaN</td>\n",
       "      <td>NaN</td>\n",
       "      <td>NaN</td>\n",
       "    </tr>\n",
       "    <tr>\n",
       "      <th>3</th>\n",
       "      <td>2015</td>\n",
       "      <td>1</td>\n",
       "      <td>1</td>\n",
       "      <td>4</td>\n",
       "      <td>AA</td>\n",
       "      <td>258</td>\n",
       "      <td>N3HYAA</td>\n",
       "      <td>LAX</td>\n",
       "      <td>MIA</td>\n",
       "      <td>20</td>\n",
       "      <td>...</td>\n",
       "      <td>756.0</td>\n",
       "      <td>-9.0</td>\n",
       "      <td>0</td>\n",
       "      <td>0</td>\n",
       "      <td>NaN</td>\n",
       "      <td>NaN</td>\n",
       "      <td>NaN</td>\n",
       "      <td>NaN</td>\n",
       "      <td>NaN</td>\n",
       "      <td>NaN</td>\n",
       "    </tr>\n",
       "    <tr>\n",
       "      <th>4</th>\n",
       "      <td>2015</td>\n",
       "      <td>1</td>\n",
       "      <td>1</td>\n",
       "      <td>4</td>\n",
       "      <td>AS</td>\n",
       "      <td>135</td>\n",
       "      <td>N527AS</td>\n",
       "      <td>SEA</td>\n",
       "      <td>ANC</td>\n",
       "      <td>25</td>\n",
       "      <td>...</td>\n",
       "      <td>259.0</td>\n",
       "      <td>-21.0</td>\n",
       "      <td>0</td>\n",
       "      <td>0</td>\n",
       "      <td>NaN</td>\n",
       "      <td>NaN</td>\n",
       "      <td>NaN</td>\n",
       "      <td>NaN</td>\n",
       "      <td>NaN</td>\n",
       "      <td>NaN</td>\n",
       "    </tr>\n",
       "  </tbody>\n",
       "</table>\n",
       "<p>5 rows × 31 columns</p>\n",
       "</div>"
      ],
      "text/plain": [
       "   YEAR  MONTH  DAY  DAY_OF_WEEK AIRLINE  FLIGHT_NUMBER TAIL_NUMBER  \\\n",
       "0  2015      1    1            4      AS             98      N407AS   \n",
       "1  2015      1    1            4      AA           2336      N3KUAA   \n",
       "2  2015      1    1            4      US            840      N171US   \n",
       "3  2015      1    1            4      AA            258      N3HYAA   \n",
       "4  2015      1    1            4      AS            135      N527AS   \n",
       "\n",
       "  ORIGIN_AIRPORT DESTINATION_AIRPORT  SCHEDULED_DEPARTURE  ...  ARRIVAL_TIME  \\\n",
       "0            ANC                 SEA                    5  ...         408.0   \n",
       "1            LAX                 PBI                   10  ...         741.0   \n",
       "2            SFO                 CLT                   20  ...         811.0   \n",
       "3            LAX                 MIA                   20  ...         756.0   \n",
       "4            SEA                 ANC                   25  ...         259.0   \n",
       "\n",
       "   ARRIVAL_DELAY  DIVERTED  CANCELLED  CANCELLATION_REASON  AIR_SYSTEM_DELAY  \\\n",
       "0          -22.0         0          0                  NaN               NaN   \n",
       "1           -9.0         0          0                  NaN               NaN   \n",
       "2            5.0         0          0                  NaN               NaN   \n",
       "3           -9.0         0          0                  NaN               NaN   \n",
       "4          -21.0         0          0                  NaN               NaN   \n",
       "\n",
       "   SECURITY_DELAY  AIRLINE_DELAY  LATE_AIRCRAFT_DELAY  WEATHER_DELAY  \n",
       "0             NaN            NaN                  NaN            NaN  \n",
       "1             NaN            NaN                  NaN            NaN  \n",
       "2             NaN            NaN                  NaN            NaN  \n",
       "3             NaN            NaN                  NaN            NaN  \n",
       "4             NaN            NaN                  NaN            NaN  \n",
       "\n",
       "[5 rows x 31 columns]"
      ]
     },
     "execution_count": 4,
     "metadata": {},
     "output_type": "execute_result"
    }
   ],
   "source": [
    "df.head()"
   ]
  },
  {
   "cell_type": "code",
   "execution_count": 5,
   "id": "5c7ab97b",
   "metadata": {},
   "outputs": [
    {
     "data": {
      "text/html": [
       "<div>\n",
       "<style scoped>\n",
       "    .dataframe tbody tr th:only-of-type {\n",
       "        vertical-align: middle;\n",
       "    }\n",
       "\n",
       "    .dataframe tbody tr th {\n",
       "        vertical-align: top;\n",
       "    }\n",
       "\n",
       "    .dataframe thead th {\n",
       "        text-align: right;\n",
       "    }\n",
       "</style>\n",
       "<table border=\"1\" class=\"dataframe\">\n",
       "  <thead>\n",
       "    <tr style=\"text-align: right;\">\n",
       "      <th></th>\n",
       "      <th>YEAR</th>\n",
       "      <th>MONTH</th>\n",
       "      <th>DAY</th>\n",
       "      <th>DAY_OF_WEEK</th>\n",
       "      <th>FLIGHT_NUMBER</th>\n",
       "      <th>SCHEDULED_DEPARTURE</th>\n",
       "      <th>DEPARTURE_TIME</th>\n",
       "      <th>DEPARTURE_DELAY</th>\n",
       "      <th>TAXI_OUT</th>\n",
       "      <th>WHEELS_OFF</th>\n",
       "      <th>...</th>\n",
       "      <th>SCHEDULED_ARRIVAL</th>\n",
       "      <th>ARRIVAL_TIME</th>\n",
       "      <th>ARRIVAL_DELAY</th>\n",
       "      <th>DIVERTED</th>\n",
       "      <th>CANCELLED</th>\n",
       "      <th>AIR_SYSTEM_DELAY</th>\n",
       "      <th>SECURITY_DELAY</th>\n",
       "      <th>AIRLINE_DELAY</th>\n",
       "      <th>LATE_AIRCRAFT_DELAY</th>\n",
       "      <th>WEATHER_DELAY</th>\n",
       "    </tr>\n",
       "  </thead>\n",
       "  <tbody>\n",
       "    <tr>\n",
       "      <th>count</th>\n",
       "      <td>5819079.0</td>\n",
       "      <td>5.819079e+06</td>\n",
       "      <td>5.819079e+06</td>\n",
       "      <td>5.819079e+06</td>\n",
       "      <td>5.819079e+06</td>\n",
       "      <td>5.819079e+06</td>\n",
       "      <td>5.732926e+06</td>\n",
       "      <td>5.732926e+06</td>\n",
       "      <td>5.730032e+06</td>\n",
       "      <td>5.730032e+06</td>\n",
       "      <td>...</td>\n",
       "      <td>5.819079e+06</td>\n",
       "      <td>5.726566e+06</td>\n",
       "      <td>5.714008e+06</td>\n",
       "      <td>5.819079e+06</td>\n",
       "      <td>5.819079e+06</td>\n",
       "      <td>1.063439e+06</td>\n",
       "      <td>1.063439e+06</td>\n",
       "      <td>1.063439e+06</td>\n",
       "      <td>1.063439e+06</td>\n",
       "      <td>1.063439e+06</td>\n",
       "    </tr>\n",
       "    <tr>\n",
       "      <th>mean</th>\n",
       "      <td>2015.0</td>\n",
       "      <td>6.524085e+00</td>\n",
       "      <td>1.570459e+01</td>\n",
       "      <td>3.926941e+00</td>\n",
       "      <td>2.173093e+03</td>\n",
       "      <td>1.329602e+03</td>\n",
       "      <td>1.335204e+03</td>\n",
       "      <td>9.370158e+00</td>\n",
       "      <td>1.607166e+01</td>\n",
       "      <td>1.357171e+03</td>\n",
       "      <td>...</td>\n",
       "      <td>1.493808e+03</td>\n",
       "      <td>1.476491e+03</td>\n",
       "      <td>4.407057e+00</td>\n",
       "      <td>2.609863e-03</td>\n",
       "      <td>1.544643e-02</td>\n",
       "      <td>1.348057e+01</td>\n",
       "      <td>7.615387e-02</td>\n",
       "      <td>1.896955e+01</td>\n",
       "      <td>2.347284e+01</td>\n",
       "      <td>2.915290e+00</td>\n",
       "    </tr>\n",
       "    <tr>\n",
       "      <th>std</th>\n",
       "      <td>0.0</td>\n",
       "      <td>3.405137e+00</td>\n",
       "      <td>8.783425e+00</td>\n",
       "      <td>1.988845e+00</td>\n",
       "      <td>1.757064e+03</td>\n",
       "      <td>4.837518e+02</td>\n",
       "      <td>4.964233e+02</td>\n",
       "      <td>3.708094e+01</td>\n",
       "      <td>8.895574e+00</td>\n",
       "      <td>4.980094e+02</td>\n",
       "      <td>...</td>\n",
       "      <td>5.071647e+02</td>\n",
       "      <td>5.263197e+02</td>\n",
       "      <td>3.927130e+01</td>\n",
       "      <td>5.102012e-02</td>\n",
       "      <td>1.233201e-01</td>\n",
       "      <td>2.800368e+01</td>\n",
       "      <td>2.143460e+00</td>\n",
       "      <td>4.816164e+01</td>\n",
       "      <td>4.319702e+01</td>\n",
       "      <td>2.043334e+01</td>\n",
       "    </tr>\n",
       "    <tr>\n",
       "      <th>min</th>\n",
       "      <td>2015.0</td>\n",
       "      <td>1.000000e+00</td>\n",
       "      <td>1.000000e+00</td>\n",
       "      <td>1.000000e+00</td>\n",
       "      <td>1.000000e+00</td>\n",
       "      <td>1.000000e+00</td>\n",
       "      <td>1.000000e+00</td>\n",
       "      <td>-8.200000e+01</td>\n",
       "      <td>1.000000e+00</td>\n",
       "      <td>1.000000e+00</td>\n",
       "      <td>...</td>\n",
       "      <td>1.000000e+00</td>\n",
       "      <td>1.000000e+00</td>\n",
       "      <td>-8.700000e+01</td>\n",
       "      <td>0.000000e+00</td>\n",
       "      <td>0.000000e+00</td>\n",
       "      <td>0.000000e+00</td>\n",
       "      <td>0.000000e+00</td>\n",
       "      <td>0.000000e+00</td>\n",
       "      <td>0.000000e+00</td>\n",
       "      <td>0.000000e+00</td>\n",
       "    </tr>\n",
       "    <tr>\n",
       "      <th>25%</th>\n",
       "      <td>2015.0</td>\n",
       "      <td>4.000000e+00</td>\n",
       "      <td>8.000000e+00</td>\n",
       "      <td>2.000000e+00</td>\n",
       "      <td>7.300000e+02</td>\n",
       "      <td>9.170000e+02</td>\n",
       "      <td>9.210000e+02</td>\n",
       "      <td>-5.000000e+00</td>\n",
       "      <td>1.100000e+01</td>\n",
       "      <td>9.350000e+02</td>\n",
       "      <td>...</td>\n",
       "      <td>1.110000e+03</td>\n",
       "      <td>1.059000e+03</td>\n",
       "      <td>-1.300000e+01</td>\n",
       "      <td>0.000000e+00</td>\n",
       "      <td>0.000000e+00</td>\n",
       "      <td>0.000000e+00</td>\n",
       "      <td>0.000000e+00</td>\n",
       "      <td>0.000000e+00</td>\n",
       "      <td>0.000000e+00</td>\n",
       "      <td>0.000000e+00</td>\n",
       "    </tr>\n",
       "    <tr>\n",
       "      <th>50%</th>\n",
       "      <td>2015.0</td>\n",
       "      <td>7.000000e+00</td>\n",
       "      <td>1.600000e+01</td>\n",
       "      <td>4.000000e+00</td>\n",
       "      <td>1.690000e+03</td>\n",
       "      <td>1.325000e+03</td>\n",
       "      <td>1.330000e+03</td>\n",
       "      <td>-2.000000e+00</td>\n",
       "      <td>1.400000e+01</td>\n",
       "      <td>1.343000e+03</td>\n",
       "      <td>...</td>\n",
       "      <td>1.520000e+03</td>\n",
       "      <td>1.512000e+03</td>\n",
       "      <td>-5.000000e+00</td>\n",
       "      <td>0.000000e+00</td>\n",
       "      <td>0.000000e+00</td>\n",
       "      <td>2.000000e+00</td>\n",
       "      <td>0.000000e+00</td>\n",
       "      <td>2.000000e+00</td>\n",
       "      <td>3.000000e+00</td>\n",
       "      <td>0.000000e+00</td>\n",
       "    </tr>\n",
       "    <tr>\n",
       "      <th>75%</th>\n",
       "      <td>2015.0</td>\n",
       "      <td>9.000000e+00</td>\n",
       "      <td>2.300000e+01</td>\n",
       "      <td>6.000000e+00</td>\n",
       "      <td>3.230000e+03</td>\n",
       "      <td>1.730000e+03</td>\n",
       "      <td>1.740000e+03</td>\n",
       "      <td>7.000000e+00</td>\n",
       "      <td>1.900000e+01</td>\n",
       "      <td>1.754000e+03</td>\n",
       "      <td>...</td>\n",
       "      <td>1.918000e+03</td>\n",
       "      <td>1.917000e+03</td>\n",
       "      <td>8.000000e+00</td>\n",
       "      <td>0.000000e+00</td>\n",
       "      <td>0.000000e+00</td>\n",
       "      <td>1.800000e+01</td>\n",
       "      <td>0.000000e+00</td>\n",
       "      <td>1.900000e+01</td>\n",
       "      <td>2.900000e+01</td>\n",
       "      <td>0.000000e+00</td>\n",
       "    </tr>\n",
       "    <tr>\n",
       "      <th>max</th>\n",
       "      <td>2015.0</td>\n",
       "      <td>1.200000e+01</td>\n",
       "      <td>3.100000e+01</td>\n",
       "      <td>7.000000e+00</td>\n",
       "      <td>9.855000e+03</td>\n",
       "      <td>2.359000e+03</td>\n",
       "      <td>2.400000e+03</td>\n",
       "      <td>1.988000e+03</td>\n",
       "      <td>2.250000e+02</td>\n",
       "      <td>2.400000e+03</td>\n",
       "      <td>...</td>\n",
       "      <td>2.400000e+03</td>\n",
       "      <td>2.400000e+03</td>\n",
       "      <td>1.971000e+03</td>\n",
       "      <td>1.000000e+00</td>\n",
       "      <td>1.000000e+00</td>\n",
       "      <td>1.134000e+03</td>\n",
       "      <td>5.730000e+02</td>\n",
       "      <td>1.971000e+03</td>\n",
       "      <td>1.331000e+03</td>\n",
       "      <td>1.211000e+03</td>\n",
       "    </tr>\n",
       "  </tbody>\n",
       "</table>\n",
       "<p>8 rows × 26 columns</p>\n",
       "</div>"
      ],
      "text/plain": [
       "            YEAR         MONTH           DAY   DAY_OF_WEEK  FLIGHT_NUMBER  \\\n",
       "count  5819079.0  5.819079e+06  5.819079e+06  5.819079e+06   5.819079e+06   \n",
       "mean      2015.0  6.524085e+00  1.570459e+01  3.926941e+00   2.173093e+03   \n",
       "std          0.0  3.405137e+00  8.783425e+00  1.988845e+00   1.757064e+03   \n",
       "min       2015.0  1.000000e+00  1.000000e+00  1.000000e+00   1.000000e+00   \n",
       "25%       2015.0  4.000000e+00  8.000000e+00  2.000000e+00   7.300000e+02   \n",
       "50%       2015.0  7.000000e+00  1.600000e+01  4.000000e+00   1.690000e+03   \n",
       "75%       2015.0  9.000000e+00  2.300000e+01  6.000000e+00   3.230000e+03   \n",
       "max       2015.0  1.200000e+01  3.100000e+01  7.000000e+00   9.855000e+03   \n",
       "\n",
       "       SCHEDULED_DEPARTURE  DEPARTURE_TIME  DEPARTURE_DELAY      TAXI_OUT  \\\n",
       "count         5.819079e+06    5.732926e+06     5.732926e+06  5.730032e+06   \n",
       "mean          1.329602e+03    1.335204e+03     9.370158e+00  1.607166e+01   \n",
       "std           4.837518e+02    4.964233e+02     3.708094e+01  8.895574e+00   \n",
       "min           1.000000e+00    1.000000e+00    -8.200000e+01  1.000000e+00   \n",
       "25%           9.170000e+02    9.210000e+02    -5.000000e+00  1.100000e+01   \n",
       "50%           1.325000e+03    1.330000e+03    -2.000000e+00  1.400000e+01   \n",
       "75%           1.730000e+03    1.740000e+03     7.000000e+00  1.900000e+01   \n",
       "max           2.359000e+03    2.400000e+03     1.988000e+03  2.250000e+02   \n",
       "\n",
       "         WHEELS_OFF  ...  SCHEDULED_ARRIVAL  ARRIVAL_TIME  ARRIVAL_DELAY  \\\n",
       "count  5.730032e+06  ...       5.819079e+06  5.726566e+06   5.714008e+06   \n",
       "mean   1.357171e+03  ...       1.493808e+03  1.476491e+03   4.407057e+00   \n",
       "std    4.980094e+02  ...       5.071647e+02  5.263197e+02   3.927130e+01   \n",
       "min    1.000000e+00  ...       1.000000e+00  1.000000e+00  -8.700000e+01   \n",
       "25%    9.350000e+02  ...       1.110000e+03  1.059000e+03  -1.300000e+01   \n",
       "50%    1.343000e+03  ...       1.520000e+03  1.512000e+03  -5.000000e+00   \n",
       "75%    1.754000e+03  ...       1.918000e+03  1.917000e+03   8.000000e+00   \n",
       "max    2.400000e+03  ...       2.400000e+03  2.400000e+03   1.971000e+03   \n",
       "\n",
       "           DIVERTED     CANCELLED  AIR_SYSTEM_DELAY  SECURITY_DELAY  \\\n",
       "count  5.819079e+06  5.819079e+06      1.063439e+06    1.063439e+06   \n",
       "mean   2.609863e-03  1.544643e-02      1.348057e+01    7.615387e-02   \n",
       "std    5.102012e-02  1.233201e-01      2.800368e+01    2.143460e+00   \n",
       "min    0.000000e+00  0.000000e+00      0.000000e+00    0.000000e+00   \n",
       "25%    0.000000e+00  0.000000e+00      0.000000e+00    0.000000e+00   \n",
       "50%    0.000000e+00  0.000000e+00      2.000000e+00    0.000000e+00   \n",
       "75%    0.000000e+00  0.000000e+00      1.800000e+01    0.000000e+00   \n",
       "max    1.000000e+00  1.000000e+00      1.134000e+03    5.730000e+02   \n",
       "\n",
       "       AIRLINE_DELAY  LATE_AIRCRAFT_DELAY  WEATHER_DELAY  \n",
       "count   1.063439e+06         1.063439e+06   1.063439e+06  \n",
       "mean    1.896955e+01         2.347284e+01   2.915290e+00  \n",
       "std     4.816164e+01         4.319702e+01   2.043334e+01  \n",
       "min     0.000000e+00         0.000000e+00   0.000000e+00  \n",
       "25%     0.000000e+00         0.000000e+00   0.000000e+00  \n",
       "50%     2.000000e+00         3.000000e+00   0.000000e+00  \n",
       "75%     1.900000e+01         2.900000e+01   0.000000e+00  \n",
       "max     1.971000e+03         1.331000e+03   1.211000e+03  \n",
       "\n",
       "[8 rows x 26 columns]"
      ]
     },
     "execution_count": 5,
     "metadata": {},
     "output_type": "execute_result"
    }
   ],
   "source": [
    "df.describe()"
   ]
  },
  {
   "cell_type": "code",
   "execution_count": 6,
   "id": "cedce9ec",
   "metadata": {},
   "outputs": [
    {
     "data": {
      "text/plain": [
       "YEAR                         0\n",
       "MONTH                        0\n",
       "DAY                          0\n",
       "DAY_OF_WEEK                  0\n",
       "AIRLINE                      0\n",
       "FLIGHT_NUMBER                0\n",
       "TAIL_NUMBER              14721\n",
       "ORIGIN_AIRPORT               0\n",
       "DESTINATION_AIRPORT          0\n",
       "SCHEDULED_DEPARTURE          0\n",
       "DEPARTURE_TIME           86153\n",
       "DEPARTURE_DELAY          86153\n",
       "TAXI_OUT                 89047\n",
       "WHEELS_OFF               89047\n",
       "SCHEDULED_TIME               6\n",
       "ELAPSED_TIME            105071\n",
       "AIR_TIME                105071\n",
       "DISTANCE                     0\n",
       "WHEELS_ON                92513\n",
       "TAXI_IN                  92513\n",
       "SCHEDULED_ARRIVAL            0\n",
       "ARRIVAL_TIME             92513\n",
       "ARRIVAL_DELAY           105071\n",
       "DIVERTED                     0\n",
       "CANCELLED                    0\n",
       "CANCELLATION_REASON    5729195\n",
       "AIR_SYSTEM_DELAY       4755640\n",
       "SECURITY_DELAY         4755640\n",
       "AIRLINE_DELAY          4755640\n",
       "LATE_AIRCRAFT_DELAY    4755640\n",
       "WEATHER_DELAY          4755640\n",
       "dtype: int64"
      ]
     },
     "execution_count": 6,
     "metadata": {},
     "output_type": "execute_result"
    }
   ],
   "source": [
    "df.isnull().sum()"
   ]
  },
  {
   "cell_type": "code",
   "execution_count": 7,
   "id": "1ab4de11",
   "metadata": {},
   "outputs": [
    {
     "data": {
      "text/html": [
       "<div>\n",
       "<style scoped>\n",
       "    .dataframe tbody tr th:only-of-type {\n",
       "        vertical-align: middle;\n",
       "    }\n",
       "\n",
       "    .dataframe tbody tr th {\n",
       "        vertical-align: top;\n",
       "    }\n",
       "\n",
       "    .dataframe thead th {\n",
       "        text-align: right;\n",
       "    }\n",
       "</style>\n",
       "<table border=\"1\" class=\"dataframe\">\n",
       "  <thead>\n",
       "    <tr style=\"text-align: right;\">\n",
       "      <th></th>\n",
       "      <th>IATA_CODE</th>\n",
       "      <th>AIRLINE</th>\n",
       "    </tr>\n",
       "  </thead>\n",
       "  <tbody>\n",
       "    <tr>\n",
       "      <th>count</th>\n",
       "      <td>14</td>\n",
       "      <td>14</td>\n",
       "    </tr>\n",
       "    <tr>\n",
       "      <th>unique</th>\n",
       "      <td>14</td>\n",
       "      <td>14</td>\n",
       "    </tr>\n",
       "    <tr>\n",
       "      <th>top</th>\n",
       "      <td>OO</td>\n",
       "      <td>American Airlines Inc.</td>\n",
       "    </tr>\n",
       "    <tr>\n",
       "      <th>freq</th>\n",
       "      <td>1</td>\n",
       "      <td>1</td>\n",
       "    </tr>\n",
       "  </tbody>\n",
       "</table>\n",
       "</div>"
      ],
      "text/plain": [
       "       IATA_CODE                 AIRLINE\n",
       "count         14                      14\n",
       "unique        14                      14\n",
       "top           OO  American Airlines Inc.\n",
       "freq           1                       1"
      ]
     },
     "execution_count": 7,
     "metadata": {},
     "output_type": "execute_result"
    }
   ],
   "source": [
    "airlines_data.describe()"
   ]
  },
  {
   "cell_type": "code",
   "execution_count": 8,
   "id": "e4eb222a",
   "metadata": {},
   "outputs": [
    {
     "data": {
      "text/html": [
       "<div>\n",
       "<style scoped>\n",
       "    .dataframe tbody tr th:only-of-type {\n",
       "        vertical-align: middle;\n",
       "    }\n",
       "\n",
       "    .dataframe tbody tr th {\n",
       "        vertical-align: top;\n",
       "    }\n",
       "\n",
       "    .dataframe thead th {\n",
       "        text-align: right;\n",
       "    }\n",
       "</style>\n",
       "<table border=\"1\" class=\"dataframe\">\n",
       "  <thead>\n",
       "    <tr style=\"text-align: right;\">\n",
       "      <th></th>\n",
       "      <th>LATITUDE</th>\n",
       "      <th>LONGITUDE</th>\n",
       "    </tr>\n",
       "  </thead>\n",
       "  <tbody>\n",
       "    <tr>\n",
       "      <th>count</th>\n",
       "      <td>319.000000</td>\n",
       "      <td>319.000000</td>\n",
       "    </tr>\n",
       "    <tr>\n",
       "      <th>mean</th>\n",
       "      <td>38.981244</td>\n",
       "      <td>-98.378964</td>\n",
       "    </tr>\n",
       "    <tr>\n",
       "      <th>std</th>\n",
       "      <td>8.616736</td>\n",
       "      <td>21.523492</td>\n",
       "    </tr>\n",
       "    <tr>\n",
       "      <th>min</th>\n",
       "      <td>13.483450</td>\n",
       "      <td>-176.646030</td>\n",
       "    </tr>\n",
       "    <tr>\n",
       "      <th>25%</th>\n",
       "      <td>33.652040</td>\n",
       "      <td>-110.839385</td>\n",
       "    </tr>\n",
       "    <tr>\n",
       "      <th>50%</th>\n",
       "      <td>39.297610</td>\n",
       "      <td>-93.403070</td>\n",
       "    </tr>\n",
       "    <tr>\n",
       "      <th>75%</th>\n",
       "      <td>43.154675</td>\n",
       "      <td>-82.722995</td>\n",
       "    </tr>\n",
       "    <tr>\n",
       "      <th>max</th>\n",
       "      <td>71.285450</td>\n",
       "      <td>-64.798560</td>\n",
       "    </tr>\n",
       "  </tbody>\n",
       "</table>\n",
       "</div>"
      ],
      "text/plain": [
       "         LATITUDE   LONGITUDE\n",
       "count  319.000000  319.000000\n",
       "mean    38.981244  -98.378964\n",
       "std      8.616736   21.523492\n",
       "min     13.483450 -176.646030\n",
       "25%     33.652040 -110.839385\n",
       "50%     39.297610  -93.403070\n",
       "75%     43.154675  -82.722995\n",
       "max     71.285450  -64.798560"
      ]
     },
     "execution_count": 8,
     "metadata": {},
     "output_type": "execute_result"
    }
   ],
   "source": [
    "airport_data.describe()"
   ]
  },
  {
   "cell_type": "code",
   "execution_count": 9,
   "id": "13edaa8a",
   "metadata": {},
   "outputs": [
    {
     "name": "stdout",
     "output_type": "stream",
     "text": [
      "<class 'pandas.core.frame.DataFrame'>\n",
      "RangeIndex: 322 entries, 0 to 321\n",
      "Data columns (total 7 columns):\n",
      " #   Column     Non-Null Count  Dtype  \n",
      "---  ------     --------------  -----  \n",
      " 0   IATA_CODE  322 non-null    object \n",
      " 1   AIRPORT    322 non-null    object \n",
      " 2   CITY       322 non-null    object \n",
      " 3   STATE      322 non-null    object \n",
      " 4   COUNTRY    322 non-null    object \n",
      " 5   LATITUDE   319 non-null    float64\n",
      " 6   LONGITUDE  319 non-null    float64\n",
      "dtypes: float64(2), object(5)\n",
      "memory usage: 17.7+ KB\n"
     ]
    }
   ],
   "source": [
    "airport_data.info()"
   ]
  },
  {
   "cell_type": "code",
   "execution_count": 10,
   "id": "21c47f33",
   "metadata": {},
   "outputs": [
    {
     "data": {
      "text/html": [
       "<div>\n",
       "<style scoped>\n",
       "    .dataframe tbody tr th:only-of-type {\n",
       "        vertical-align: middle;\n",
       "    }\n",
       "\n",
       "    .dataframe tbody tr th {\n",
       "        vertical-align: top;\n",
       "    }\n",
       "\n",
       "    .dataframe thead th {\n",
       "        text-align: right;\n",
       "    }\n",
       "</style>\n",
       "<table border=\"1\" class=\"dataframe\">\n",
       "  <thead>\n",
       "    <tr style=\"text-align: right;\">\n",
       "      <th></th>\n",
       "      <th>IATA_CODE</th>\n",
       "      <th>AIRPORT</th>\n",
       "      <th>CITY</th>\n",
       "      <th>STATE</th>\n",
       "      <th>COUNTRY</th>\n",
       "      <th>LATITUDE</th>\n",
       "      <th>LONGITUDE</th>\n",
       "    </tr>\n",
       "  </thead>\n",
       "  <tbody>\n",
       "    <tr>\n",
       "      <th>0</th>\n",
       "      <td>ABE</td>\n",
       "      <td>Lehigh Valley International Airport</td>\n",
       "      <td>Allentown</td>\n",
       "      <td>PA</td>\n",
       "      <td>USA</td>\n",
       "      <td>40.65236</td>\n",
       "      <td>-75.44040</td>\n",
       "    </tr>\n",
       "    <tr>\n",
       "      <th>1</th>\n",
       "      <td>ABI</td>\n",
       "      <td>Abilene Regional Airport</td>\n",
       "      <td>Abilene</td>\n",
       "      <td>TX</td>\n",
       "      <td>USA</td>\n",
       "      <td>32.41132</td>\n",
       "      <td>-99.68190</td>\n",
       "    </tr>\n",
       "    <tr>\n",
       "      <th>2</th>\n",
       "      <td>ABQ</td>\n",
       "      <td>Albuquerque International Sunport</td>\n",
       "      <td>Albuquerque</td>\n",
       "      <td>NM</td>\n",
       "      <td>USA</td>\n",
       "      <td>35.04022</td>\n",
       "      <td>-106.60919</td>\n",
       "    </tr>\n",
       "    <tr>\n",
       "      <th>3</th>\n",
       "      <td>ABR</td>\n",
       "      <td>Aberdeen Regional Airport</td>\n",
       "      <td>Aberdeen</td>\n",
       "      <td>SD</td>\n",
       "      <td>USA</td>\n",
       "      <td>45.44906</td>\n",
       "      <td>-98.42183</td>\n",
       "    </tr>\n",
       "    <tr>\n",
       "      <th>4</th>\n",
       "      <td>ABY</td>\n",
       "      <td>Southwest Georgia Regional Airport</td>\n",
       "      <td>Albany</td>\n",
       "      <td>GA</td>\n",
       "      <td>USA</td>\n",
       "      <td>31.53552</td>\n",
       "      <td>-84.19447</td>\n",
       "    </tr>\n",
       "    <tr>\n",
       "      <th>5</th>\n",
       "      <td>ACK</td>\n",
       "      <td>Nantucket Memorial Airport</td>\n",
       "      <td>Nantucket</td>\n",
       "      <td>MA</td>\n",
       "      <td>USA</td>\n",
       "      <td>41.25305</td>\n",
       "      <td>-70.06018</td>\n",
       "    </tr>\n",
       "    <tr>\n",
       "      <th>6</th>\n",
       "      <td>ACT</td>\n",
       "      <td>Waco Regional Airport</td>\n",
       "      <td>Waco</td>\n",
       "      <td>TX</td>\n",
       "      <td>USA</td>\n",
       "      <td>31.61129</td>\n",
       "      <td>-97.23052</td>\n",
       "    </tr>\n",
       "    <tr>\n",
       "      <th>7</th>\n",
       "      <td>ACV</td>\n",
       "      <td>Arcata Airport</td>\n",
       "      <td>Arcata/Eureka</td>\n",
       "      <td>CA</td>\n",
       "      <td>USA</td>\n",
       "      <td>40.97812</td>\n",
       "      <td>-124.10862</td>\n",
       "    </tr>\n",
       "    <tr>\n",
       "      <th>8</th>\n",
       "      <td>ACY</td>\n",
       "      <td>Atlantic City International Airport</td>\n",
       "      <td>Atlantic City</td>\n",
       "      <td>NJ</td>\n",
       "      <td>USA</td>\n",
       "      <td>39.45758</td>\n",
       "      <td>-74.57717</td>\n",
       "    </tr>\n",
       "    <tr>\n",
       "      <th>9</th>\n",
       "      <td>ADK</td>\n",
       "      <td>Adak Airport</td>\n",
       "      <td>Adak</td>\n",
       "      <td>AK</td>\n",
       "      <td>USA</td>\n",
       "      <td>51.87796</td>\n",
       "      <td>-176.64603</td>\n",
       "    </tr>\n",
       "    <tr>\n",
       "      <th>10</th>\n",
       "      <td>ADQ</td>\n",
       "      <td>Kodiak Airport</td>\n",
       "      <td>Kodiak</td>\n",
       "      <td>AK</td>\n",
       "      <td>USA</td>\n",
       "      <td>57.74997</td>\n",
       "      <td>-152.49386</td>\n",
       "    </tr>\n",
       "    <tr>\n",
       "      <th>11</th>\n",
       "      <td>AEX</td>\n",
       "      <td>Alexandria International Airport</td>\n",
       "      <td>Alexandria</td>\n",
       "      <td>LA</td>\n",
       "      <td>USA</td>\n",
       "      <td>31.32737</td>\n",
       "      <td>-92.54856</td>\n",
       "    </tr>\n",
       "    <tr>\n",
       "      <th>12</th>\n",
       "      <td>AGS</td>\n",
       "      <td>Augusta Regional Airport (Bush Field)</td>\n",
       "      <td>Augusta</td>\n",
       "      <td>GA</td>\n",
       "      <td>USA</td>\n",
       "      <td>33.36996</td>\n",
       "      <td>-81.96450</td>\n",
       "    </tr>\n",
       "    <tr>\n",
       "      <th>13</th>\n",
       "      <td>AKN</td>\n",
       "      <td>King Salmon Airport</td>\n",
       "      <td>King Salmon</td>\n",
       "      <td>AK</td>\n",
       "      <td>USA</td>\n",
       "      <td>58.67680</td>\n",
       "      <td>-156.64922</td>\n",
       "    </tr>\n",
       "    <tr>\n",
       "      <th>14</th>\n",
       "      <td>ALB</td>\n",
       "      <td>Albany International Airport</td>\n",
       "      <td>Albany</td>\n",
       "      <td>NY</td>\n",
       "      <td>USA</td>\n",
       "      <td>42.74812</td>\n",
       "      <td>-73.80298</td>\n",
       "    </tr>\n",
       "    <tr>\n",
       "      <th>15</th>\n",
       "      <td>ALO</td>\n",
       "      <td>Waterloo Regional Airport</td>\n",
       "      <td>Waterloo</td>\n",
       "      <td>IA</td>\n",
       "      <td>USA</td>\n",
       "      <td>42.55708</td>\n",
       "      <td>-92.40034</td>\n",
       "    </tr>\n",
       "    <tr>\n",
       "      <th>16</th>\n",
       "      <td>AMA</td>\n",
       "      <td>Rick Husband Amarillo International Airport</td>\n",
       "      <td>Amarillo</td>\n",
       "      <td>TX</td>\n",
       "      <td>USA</td>\n",
       "      <td>35.21937</td>\n",
       "      <td>-101.70593</td>\n",
       "    </tr>\n",
       "    <tr>\n",
       "      <th>17</th>\n",
       "      <td>ANC</td>\n",
       "      <td>Ted Stevens Anchorage International Airport</td>\n",
       "      <td>Anchorage</td>\n",
       "      <td>AK</td>\n",
       "      <td>USA</td>\n",
       "      <td>61.17432</td>\n",
       "      <td>-149.99619</td>\n",
       "    </tr>\n",
       "    <tr>\n",
       "      <th>18</th>\n",
       "      <td>APN</td>\n",
       "      <td>Alpena County Regional Airport</td>\n",
       "      <td>Alpena</td>\n",
       "      <td>MI</td>\n",
       "      <td>USA</td>\n",
       "      <td>45.07807</td>\n",
       "      <td>-83.56029</td>\n",
       "    </tr>\n",
       "    <tr>\n",
       "      <th>19</th>\n",
       "      <td>ASE</td>\n",
       "      <td>Aspen-Pitkin County Airport</td>\n",
       "      <td>Aspen</td>\n",
       "      <td>CO</td>\n",
       "      <td>USA</td>\n",
       "      <td>39.22316</td>\n",
       "      <td>-106.86885</td>\n",
       "    </tr>\n",
       "    <tr>\n",
       "      <th>20</th>\n",
       "      <td>ATL</td>\n",
       "      <td>Hartsfield-Jackson Atlanta International Airport</td>\n",
       "      <td>Atlanta</td>\n",
       "      <td>GA</td>\n",
       "      <td>USA</td>\n",
       "      <td>33.64044</td>\n",
       "      <td>-84.42694</td>\n",
       "    </tr>\n",
       "    <tr>\n",
       "      <th>21</th>\n",
       "      <td>ATW</td>\n",
       "      <td>Appleton International Airport</td>\n",
       "      <td>Appleton</td>\n",
       "      <td>WI</td>\n",
       "      <td>USA</td>\n",
       "      <td>44.25741</td>\n",
       "      <td>-88.51948</td>\n",
       "    </tr>\n",
       "    <tr>\n",
       "      <th>22</th>\n",
       "      <td>AUS</td>\n",
       "      <td>Austin-Bergstrom International Airport</td>\n",
       "      <td>Austin</td>\n",
       "      <td>TX</td>\n",
       "      <td>USA</td>\n",
       "      <td>30.19453</td>\n",
       "      <td>-97.66987</td>\n",
       "    </tr>\n",
       "    <tr>\n",
       "      <th>23</th>\n",
       "      <td>AVL</td>\n",
       "      <td>Asheville Regional Airport</td>\n",
       "      <td>Asheville</td>\n",
       "      <td>NC</td>\n",
       "      <td>USA</td>\n",
       "      <td>35.43619</td>\n",
       "      <td>-82.54181</td>\n",
       "    </tr>\n",
       "    <tr>\n",
       "      <th>24</th>\n",
       "      <td>AVP</td>\n",
       "      <td>Wilkes-Barre/Scranton International Airport</td>\n",
       "      <td>Wilkes-Barre/Scranton</td>\n",
       "      <td>PA</td>\n",
       "      <td>USA</td>\n",
       "      <td>41.33815</td>\n",
       "      <td>-75.72427</td>\n",
       "    </tr>\n",
       "    <tr>\n",
       "      <th>25</th>\n",
       "      <td>AZO</td>\n",
       "      <td>Kalamazoo/Battle Creek International Airport</td>\n",
       "      <td>Kalamazoo</td>\n",
       "      <td>MI</td>\n",
       "      <td>USA</td>\n",
       "      <td>42.23488</td>\n",
       "      <td>-85.55206</td>\n",
       "    </tr>\n",
       "    <tr>\n",
       "      <th>26</th>\n",
       "      <td>BDL</td>\n",
       "      <td>Bradley International Airport</td>\n",
       "      <td>Windsor Locks</td>\n",
       "      <td>CT</td>\n",
       "      <td>USA</td>\n",
       "      <td>41.93887</td>\n",
       "      <td>-72.68323</td>\n",
       "    </tr>\n",
       "    <tr>\n",
       "      <th>27</th>\n",
       "      <td>BET</td>\n",
       "      <td>Bethel Airport</td>\n",
       "      <td>Bethel</td>\n",
       "      <td>AK</td>\n",
       "      <td>USA</td>\n",
       "      <td>60.77978</td>\n",
       "      <td>-161.83800</td>\n",
       "    </tr>\n",
       "    <tr>\n",
       "      <th>28</th>\n",
       "      <td>BFL</td>\n",
       "      <td>Meadows Field</td>\n",
       "      <td>Bakersfield</td>\n",
       "      <td>CA</td>\n",
       "      <td>USA</td>\n",
       "      <td>35.43360</td>\n",
       "      <td>-119.05677</td>\n",
       "    </tr>\n",
       "    <tr>\n",
       "      <th>29</th>\n",
       "      <td>BGM</td>\n",
       "      <td>Greater Binghamton Airport</td>\n",
       "      <td>Binghamton</td>\n",
       "      <td>NY</td>\n",
       "      <td>USA</td>\n",
       "      <td>42.20848</td>\n",
       "      <td>-75.97961</td>\n",
       "    </tr>\n",
       "  </tbody>\n",
       "</table>\n",
       "</div>"
      ],
      "text/plain": [
       "   IATA_CODE                                           AIRPORT  \\\n",
       "0        ABE               Lehigh Valley International Airport   \n",
       "1        ABI                          Abilene Regional Airport   \n",
       "2        ABQ                 Albuquerque International Sunport   \n",
       "3        ABR                         Aberdeen Regional Airport   \n",
       "4        ABY                Southwest Georgia Regional Airport   \n",
       "5        ACK                        Nantucket Memorial Airport   \n",
       "6        ACT                             Waco Regional Airport   \n",
       "7        ACV                                    Arcata Airport   \n",
       "8        ACY               Atlantic City International Airport   \n",
       "9        ADK                                      Adak Airport   \n",
       "10       ADQ                                    Kodiak Airport   \n",
       "11       AEX                  Alexandria International Airport   \n",
       "12       AGS             Augusta Regional Airport (Bush Field)   \n",
       "13       AKN                               King Salmon Airport   \n",
       "14       ALB                      Albany International Airport   \n",
       "15       ALO                         Waterloo Regional Airport   \n",
       "16       AMA       Rick Husband Amarillo International Airport   \n",
       "17       ANC       Ted Stevens Anchorage International Airport   \n",
       "18       APN                    Alpena County Regional Airport   \n",
       "19       ASE                       Aspen-Pitkin County Airport   \n",
       "20       ATL  Hartsfield-Jackson Atlanta International Airport   \n",
       "21       ATW                    Appleton International Airport   \n",
       "22       AUS            Austin-Bergstrom International Airport   \n",
       "23       AVL                        Asheville Regional Airport   \n",
       "24       AVP       Wilkes-Barre/Scranton International Airport   \n",
       "25       AZO      Kalamazoo/Battle Creek International Airport   \n",
       "26       BDL                     Bradley International Airport   \n",
       "27       BET                                    Bethel Airport   \n",
       "28       BFL                                     Meadows Field   \n",
       "29       BGM                        Greater Binghamton Airport   \n",
       "\n",
       "                     CITY STATE COUNTRY  LATITUDE  LONGITUDE  \n",
       "0               Allentown    PA     USA  40.65236  -75.44040  \n",
       "1                 Abilene    TX     USA  32.41132  -99.68190  \n",
       "2             Albuquerque    NM     USA  35.04022 -106.60919  \n",
       "3                Aberdeen    SD     USA  45.44906  -98.42183  \n",
       "4                  Albany    GA     USA  31.53552  -84.19447  \n",
       "5               Nantucket    MA     USA  41.25305  -70.06018  \n",
       "6                    Waco    TX     USA  31.61129  -97.23052  \n",
       "7           Arcata/Eureka    CA     USA  40.97812 -124.10862  \n",
       "8           Atlantic City    NJ     USA  39.45758  -74.57717  \n",
       "9                    Adak    AK     USA  51.87796 -176.64603  \n",
       "10                 Kodiak    AK     USA  57.74997 -152.49386  \n",
       "11             Alexandria    LA     USA  31.32737  -92.54856  \n",
       "12                Augusta    GA     USA  33.36996  -81.96450  \n",
       "13            King Salmon    AK     USA  58.67680 -156.64922  \n",
       "14                 Albany    NY     USA  42.74812  -73.80298  \n",
       "15               Waterloo    IA     USA  42.55708  -92.40034  \n",
       "16               Amarillo    TX     USA  35.21937 -101.70593  \n",
       "17              Anchorage    AK     USA  61.17432 -149.99619  \n",
       "18                 Alpena    MI     USA  45.07807  -83.56029  \n",
       "19                  Aspen    CO     USA  39.22316 -106.86885  \n",
       "20                Atlanta    GA     USA  33.64044  -84.42694  \n",
       "21               Appleton    WI     USA  44.25741  -88.51948  \n",
       "22                 Austin    TX     USA  30.19453  -97.66987  \n",
       "23              Asheville    NC     USA  35.43619  -82.54181  \n",
       "24  Wilkes-Barre/Scranton    PA     USA  41.33815  -75.72427  \n",
       "25              Kalamazoo    MI     USA  42.23488  -85.55206  \n",
       "26          Windsor Locks    CT     USA  41.93887  -72.68323  \n",
       "27                 Bethel    AK     USA  60.77978 -161.83800  \n",
       "28            Bakersfield    CA     USA  35.43360 -119.05677  \n",
       "29             Binghamton    NY     USA  42.20848  -75.97961  "
      ]
     },
     "execution_count": 10,
     "metadata": {},
     "output_type": "execute_result"
    }
   ],
   "source": [
    "airport_data.head(30)"
   ]
  },
  {
   "cell_type": "code",
   "execution_count": 11,
   "id": "2d7a6093",
   "metadata": {},
   "outputs": [
    {
     "data": {
      "text/plain": [
       "YEAR                         0\n",
       "MONTH                        0\n",
       "DAY                          0\n",
       "DAY_OF_WEEK                  0\n",
       "AIRLINE                      0\n",
       "FLIGHT_NUMBER                0\n",
       "TAIL_NUMBER              14721\n",
       "ORIGIN_AIRPORT               0\n",
       "DESTINATION_AIRPORT          0\n",
       "SCHEDULED_DEPARTURE          0\n",
       "DEPARTURE_TIME           86153\n",
       "DEPARTURE_DELAY          86153\n",
       "TAXI_OUT                 89047\n",
       "WHEELS_OFF               89047\n",
       "SCHEDULED_TIME               6\n",
       "ELAPSED_TIME            105071\n",
       "AIR_TIME                105071\n",
       "DISTANCE                     0\n",
       "WHEELS_ON                92513\n",
       "TAXI_IN                  92513\n",
       "SCHEDULED_ARRIVAL            0\n",
       "ARRIVAL_TIME             92513\n",
       "ARRIVAL_DELAY           105071\n",
       "DIVERTED                     0\n",
       "CANCELLED                    0\n",
       "CANCELLATION_REASON    5729195\n",
       "AIR_SYSTEM_DELAY       4755640\n",
       "SECURITY_DELAY         4755640\n",
       "AIRLINE_DELAY          4755640\n",
       "LATE_AIRCRAFT_DELAY    4755640\n",
       "WEATHER_DELAY          4755640\n",
       "dtype: int64"
      ]
     },
     "execution_count": 11,
     "metadata": {},
     "output_type": "execute_result"
    }
   ],
   "source": [
    "df.isnull().sum()"
   ]
  },
  {
   "cell_type": "markdown",
   "id": "5a391c6c",
   "metadata": {},
   "source": [
    "### Based on the above df.isnull().sum(), Cancellation reason, air system delay, security delay, airline delay, late aircraft delay and weather delay have the highest number of null values, hence we drop them."
   ]
  },
  {
   "cell_type": "code",
   "execution_count": 12,
   "id": "a433a69d",
   "metadata": {},
   "outputs": [],
   "source": [
    "# Dropping the columns with highest number of null values: \n",
    "cols_to_drop = ['CANCELLATION_REASON', 'AIR_SYSTEM_DELAY', 'SECURITY_DELAY', 'AIRLINE_DELAY', 'LATE_AIRCRAFT_DELAY', 'WEATHER_DELAY']\n",
    "df.drop(cols_to_drop, axis=1, inplace=True)"
   ]
  },
  {
   "cell_type": "code",
   "execution_count": 13,
   "id": "d5cd8d9f",
   "metadata": {},
   "outputs": [
    {
     "name": "stdout",
     "output_type": "stream",
     "text": [
      "<class 'pandas.core.frame.DataFrame'>\n",
      "RangeIndex: 5819079 entries, 0 to 5819078\n",
      "Data columns (total 25 columns):\n",
      " #   Column               Dtype  \n",
      "---  ------               -----  \n",
      " 0   YEAR                 int64  \n",
      " 1   MONTH                int64  \n",
      " 2   DAY                  int64  \n",
      " 3   DAY_OF_WEEK          int64  \n",
      " 4   AIRLINE              object \n",
      " 5   FLIGHT_NUMBER        int64  \n",
      " 6   TAIL_NUMBER          object \n",
      " 7   ORIGIN_AIRPORT       object \n",
      " 8   DESTINATION_AIRPORT  object \n",
      " 9   SCHEDULED_DEPARTURE  int64  \n",
      " 10  DEPARTURE_TIME       float64\n",
      " 11  DEPARTURE_DELAY      float64\n",
      " 12  TAXI_OUT             float64\n",
      " 13  WHEELS_OFF           float64\n",
      " 14  SCHEDULED_TIME       float64\n",
      " 15  ELAPSED_TIME         float64\n",
      " 16  AIR_TIME             float64\n",
      " 17  DISTANCE             int64  \n",
      " 18  WHEELS_ON            float64\n",
      " 19  TAXI_IN              float64\n",
      " 20  SCHEDULED_ARRIVAL    int64  \n",
      " 21  ARRIVAL_TIME         float64\n",
      " 22  ARRIVAL_DELAY        float64\n",
      " 23  DIVERTED             int64  \n",
      " 24  CANCELLED            int64  \n",
      "dtypes: float64(11), int64(10), object(4)\n",
      "memory usage: 1.1+ GB\n"
     ]
    }
   ],
   "source": [
    "df.info()"
   ]
  },
  {
   "cell_type": "code",
   "execution_count": 14,
   "id": "8c43933d",
   "metadata": {},
   "outputs": [
    {
     "data": {
      "image/png": "[encoded data removed]",
      "text/plain": [
       "<Figure size 576x396 with 1 Axes>"
      ]
     },
     "metadata": {},
     "output_type": "display_data"
    }
   ],
   "source": [
    "# plot the monthly data\n",
    "plt.style.use('seaborn')\n",
    "labels = ['Jan', 'Feb', 'Mar', 'Apr', 'May', 'Jun', 'Jul', 'Aug', 'Sep', 'Oct', 'Nov', 'Dec']\n",
    "df.groupby('MONTH').count()['FLIGHT_NUMBER'].plot(kind=\"bar\")\n",
    "plt.xlabel(\"Months\")\n",
    "plt.xticks(labels=labels, ticks=np.arange(0,12,1))\n",
    "plt.ylabel(\"Flight Count\")\n",
    "plt.title(\"Monthly Flight Count for the year 2019\")\n",
    "plt.show()"
   ]
  },
  {
   "cell_type": "markdown",
   "id": "abb41941",
   "metadata": {},
   "source": [
    "## Monthly flight count for the year 2019 was fairly equal"
   ]
  },
  {
   "cell_type": "code",
   "execution_count": 15,
   "id": "ed8f9c16",
   "metadata": {},
   "outputs": [
    {
     "data": {
      "image/png": "[encoded data removed]",
      "text/plain": [
       "<Figure size 864x576 with 1 Axes>"
      ]
     },
     "metadata": {},
     "output_type": "display_data"
    }
   ],
   "source": [
    "# Plot the daily flight data for the year 2015\n",
    "df.groupby('DAY').count()['AIRLINE'].plot(figsize=(12,8))\n",
    "plt.xlabel(\"Day of the Month\")\n",
    "plt.xticks(np.arange(1, 32, 1))\n",
    "plt.ylabel(\"Flight Count\")\n",
    "plt.title(\"Daily Flight count for the year 2019\")\n",
    "plt.show()"
   ]
  },
  {
   "cell_type": "markdown",
   "id": "529db73d",
   "metadata": {},
   "source": [
    "# As Day 31 is not present in all the months, we can see that daily flight count for that day is the least and in the other days it is fairly distributed."
   ]
  },
  {
   "cell_type": "code",
   "execution_count": 16,
   "id": "12f56d65",
   "metadata": {},
   "outputs": [
    {
     "data": {
      "image/png": "[encoded data removed]",
      "text/plain": [
       "<Figure size 576x396 with 1 Axes>"
      ]
     },
     "metadata": {},
     "output_type": "display_data"
    }
   ],
   "source": [
    "# plot the distribution of flights across DAY_OF_WEEK\n",
    "sns.countplot(data=df, x='DAY_OF_WEEK')\n",
    "plt.show()"
   ]
  },
  {
   "cell_type": "markdown",
   "id": "fda51507",
   "metadata": {},
   "source": [
    "### From the above graph, we can infer that there is a fairly equal distribution of flights across all days of the week."
   ]
  },
  {
   "cell_type": "code",
   "execution_count": 17,
   "id": "e9ee0402",
   "metadata": {},
   "outputs": [],
   "source": [
    "# Merge flights_data with airlines_data\n",
    "df = pd.merge(left = df, right = airlines_data, left_on='AIRLINE', right_on='IATA_CODE').rename(columns={'AIRLINE_y' : 'AIRLINE'})"
   ]
  },
  {
   "cell_type": "code",
   "execution_count": 18,
   "id": "c877cbb9",
   "metadata": {},
   "outputs": [
    {
     "data": {
      "image/png": "[encoded data removed]",
      "text/plain": [
       "<Figure size 576x396 with 1 Axes>"
      ]
     },
     "metadata": {},
     "output_type": "display_data"
    }
   ],
   "source": [
    "# Plot the AIRLINE count distribution\n",
    "df['AIRLINE'].value_counts().sort_values().plot(kind='bar')\n",
    "plt.ylabel(\"Airline\")\n",
    "plt.xlabel(\"Airline Count\")\n",
    "plt.title(\"Airline Count\")\n",
    "plt.show()"
   ]
  },
  {
   "cell_type": "code",
   "execution_count": 19,
   "id": "118d2b48",
   "metadata": {},
   "outputs": [
    {
     "data": {
      "image/png": "[encoded data removed]",
      "text/plain": [
       "<Figure size 1080x576 with 1 Axes>"
      ]
     },
     "metadata": {},
     "output_type": "display_data"
    }
   ],
   "source": [
    "airlines_labels = list(df['AIRLINE'].value_counts().index)\n",
    "plt.figure(figsize=(15,8))\n",
    "plt.pie(df['AIRLINE'].value_counts(), autopct = '%1.1f%%', labels = airlines_labels, explode = (0,0,0,0,0,0,0,0,0,0.05,0.1,0.2,0.3,0.3))\n",
    "plt.title(\"Airline Count\")\n",
    "plt.show()"
   ]
  },
  {
   "cell_type": "code",
   "execution_count": 20,
   "id": "65af0812",
   "metadata": {},
   "outputs": [
    {
     "name": "stdout",
     "output_type": "stream",
     "text": [
      "The airlines with most number of flights in the year 2019 is Southwest Airlines Co.\n",
      "Maximum flights in the year 2019 are 1,261,855\n"
     ]
    }
   ],
   "source": [
    "# Print the most flying airline with the total number of fligths in the year 2015\n",
    "most_flying_airline = df['AIRLINE'].value_counts().index[0]\n",
    "max_flights = df['AIRLINE'].value_counts().iloc[0]\n",
    "\n",
    "print(\"The airlines with most number of flights in the year 2019 is {}\".format(most_flying_airline))\n",
    "print(\"Maximum flights in the year 2019 are {:,}\".format(max_flights))"
   ]
  },
  {
   "cell_type": "code",
   "execution_count": 21,
   "id": "2310163e",
   "metadata": {},
   "outputs": [
    {
     "data": {
      "text/plain": [
       "<AxesSubplot:>"
      ]
     },
     "execution_count": 21,
     "metadata": {},
     "output_type": "execute_result"
    },
    {
     "data": {
      "image/png": "[encoded data removed]",
      "text/plain": [
       "<Figure size 1440x1080 with 2 Axes>"
      ]
     },
     "metadata": {},
     "output_type": "display_data"
    }
   ],
   "source": [
    "plt.figure(figsize=(20,15))\n",
    "sns.heatmap(df.corr(), annot=True, linewidth=2, cmap='YlGnBu')"
   ]
  },
  {
   "cell_type": "markdown",
   "id": "3d44b411",
   "metadata": {},
   "source": []
  },
  {
   "cell_type": "code",
   "execution_count": 22,
   "id": "fb5e25a1",
   "metadata": {},
   "outputs": [
    {
     "data": {
      "text/html": [
       "<div>\n",
       "<style scoped>\n",
       "    .dataframe tbody tr th:only-of-type {\n",
       "        vertical-align: middle;\n",
       "    }\n",
       "\n",
       "    .dataframe tbody tr th {\n",
       "        vertical-align: top;\n",
       "    }\n",
       "\n",
       "    .dataframe thead th {\n",
       "        text-align: right;\n",
       "    }\n",
       "</style>\n",
       "<table border=\"1\" class=\"dataframe\">\n",
       "  <thead>\n",
       "    <tr style=\"text-align: right;\">\n",
       "      <th></th>\n",
       "      <th>MONTH</th>\n",
       "      <th>DAY</th>\n",
       "      <th>AIRLINE_x</th>\n",
       "      <th>ORIGIN_AIRPORT</th>\n",
       "      <th>DESTINATION_AIRPORT</th>\n",
       "      <th>SCHEDULED_DEPARTURE</th>\n",
       "      <th>DEPARTURE_DELAY</th>\n",
       "      <th>SCHEDULED_ARRIVAL</th>\n",
       "      <th>ARRIVAL_TIME</th>\n",
       "      <th>ARRIVAL_DELAY</th>\n",
       "      <th>DIVERTED</th>\n",
       "      <th>CANCELLED</th>\n",
       "      <th>IATA_CODE</th>\n",
       "    </tr>\n",
       "  </thead>\n",
       "  <tbody>\n",
       "    <tr>\n",
       "      <th>0</th>\n",
       "      <td>1</td>\n",
       "      <td>1</td>\n",
       "      <td>AS</td>\n",
       "      <td>ANC</td>\n",
       "      <td>SEA</td>\n",
       "      <td>5</td>\n",
       "      <td>-11.0</td>\n",
       "      <td>430</td>\n",
       "      <td>408.0</td>\n",
       "      <td>-22.0</td>\n",
       "      <td>0</td>\n",
       "      <td>0</td>\n",
       "      <td>AS</td>\n",
       "    </tr>\n",
       "    <tr>\n",
       "      <th>1</th>\n",
       "      <td>1</td>\n",
       "      <td>1</td>\n",
       "      <td>AS</td>\n",
       "      <td>SEA</td>\n",
       "      <td>ANC</td>\n",
       "      <td>25</td>\n",
       "      <td>-1.0</td>\n",
       "      <td>320</td>\n",
       "      <td>259.0</td>\n",
       "      <td>-21.0</td>\n",
       "      <td>0</td>\n",
       "      <td>0</td>\n",
       "      <td>AS</td>\n",
       "    </tr>\n",
       "    <tr>\n",
       "      <th>2</th>\n",
       "      <td>1</td>\n",
       "      <td>1</td>\n",
       "      <td>AS</td>\n",
       "      <td>ANC</td>\n",
       "      <td>SEA</td>\n",
       "      <td>45</td>\n",
       "      <td>-4.0</td>\n",
       "      <td>509</td>\n",
       "      <td>455.0</td>\n",
       "      <td>-14.0</td>\n",
       "      <td>0</td>\n",
       "      <td>0</td>\n",
       "      <td>AS</td>\n",
       "    </tr>\n",
       "    <tr>\n",
       "      <th>3</th>\n",
       "      <td>1</td>\n",
       "      <td>1</td>\n",
       "      <td>AS</td>\n",
       "      <td>ANC</td>\n",
       "      <td>PDX</td>\n",
       "      <td>50</td>\n",
       "      <td>-4.0</td>\n",
       "      <td>525</td>\n",
       "      <td>507.0</td>\n",
       "      <td>-18.0</td>\n",
       "      <td>0</td>\n",
       "      <td>0</td>\n",
       "      <td>AS</td>\n",
       "    </tr>\n",
       "    <tr>\n",
       "      <th>4</th>\n",
       "      <td>1</td>\n",
       "      <td>1</td>\n",
       "      <td>AS</td>\n",
       "      <td>FAI</td>\n",
       "      <td>SEA</td>\n",
       "      <td>115</td>\n",
       "      <td>-8.0</td>\n",
       "      <td>548</td>\n",
       "      <td>545.0</td>\n",
       "      <td>-3.0</td>\n",
       "      <td>0</td>\n",
       "      <td>0</td>\n",
       "      <td>AS</td>\n",
       "    </tr>\n",
       "    <tr>\n",
       "      <th>...</th>\n",
       "      <td>...</td>\n",
       "      <td>...</td>\n",
       "      <td>...</td>\n",
       "      <td>...</td>\n",
       "      <td>...</td>\n",
       "      <td>...</td>\n",
       "      <td>...</td>\n",
       "      <td>...</td>\n",
       "      <td>...</td>\n",
       "      <td>...</td>\n",
       "      <td>...</td>\n",
       "      <td>...</td>\n",
       "      <td>...</td>\n",
       "    </tr>\n",
       "    <tr>\n",
       "      <th>5819074</th>\n",
       "      <td>12</td>\n",
       "      <td>31</td>\n",
       "      <td>VX</td>\n",
       "      <td>LGA</td>\n",
       "      <td>DAL</td>\n",
       "      <td>1855</td>\n",
       "      <td>-8.0</td>\n",
       "      <td>2200</td>\n",
       "      <td>2154.0</td>\n",
       "      <td>-6.0</td>\n",
       "      <td>0</td>\n",
       "      <td>0</td>\n",
       "      <td>VX</td>\n",
       "    </tr>\n",
       "    <tr>\n",
       "      <th>5819075</th>\n",
       "      <td>12</td>\n",
       "      <td>31</td>\n",
       "      <td>VX</td>\n",
       "      <td>BOS</td>\n",
       "      <td>SFO</td>\n",
       "      <td>1859</td>\n",
       "      <td>-10.0</td>\n",
       "      <td>2250</td>\n",
       "      <td>2204.0</td>\n",
       "      <td>-46.0</td>\n",
       "      <td>0</td>\n",
       "      <td>0</td>\n",
       "      <td>VX</td>\n",
       "    </tr>\n",
       "    <tr>\n",
       "      <th>5819076</th>\n",
       "      <td>12</td>\n",
       "      <td>31</td>\n",
       "      <td>VX</td>\n",
       "      <td>SFO</td>\n",
       "      <td>LAS</td>\n",
       "      <td>1940</td>\n",
       "      <td>-7.0</td>\n",
       "      <td>2110</td>\n",
       "      <td>2052.0</td>\n",
       "      <td>-18.0</td>\n",
       "      <td>0</td>\n",
       "      <td>0</td>\n",
       "      <td>VX</td>\n",
       "    </tr>\n",
       "    <tr>\n",
       "      <th>5819077</th>\n",
       "      <td>12</td>\n",
       "      <td>31</td>\n",
       "      <td>VX</td>\n",
       "      <td>LAX</td>\n",
       "      <td>LAS</td>\n",
       "      <td>1950</td>\n",
       "      <td>-2.0</td>\n",
       "      <td>2055</td>\n",
       "      <td>2044.0</td>\n",
       "      <td>-11.0</td>\n",
       "      <td>0</td>\n",
       "      <td>0</td>\n",
       "      <td>VX</td>\n",
       "    </tr>\n",
       "    <tr>\n",
       "      <th>5819078</th>\n",
       "      <td>12</td>\n",
       "      <td>31</td>\n",
       "      <td>VX</td>\n",
       "      <td>OGG</td>\n",
       "      <td>SFO</td>\n",
       "      <td>2320</td>\n",
       "      <td>-2.0</td>\n",
       "      <td>625</td>\n",
       "      <td>548.0</td>\n",
       "      <td>-37.0</td>\n",
       "      <td>0</td>\n",
       "      <td>0</td>\n",
       "      <td>VX</td>\n",
       "    </tr>\n",
       "  </tbody>\n",
       "</table>\n",
       "<p>5819079 rows × 13 columns</p>\n",
       "</div>"
      ],
      "text/plain": [
       "         MONTH  DAY AIRLINE_x ORIGIN_AIRPORT DESTINATION_AIRPORT  \\\n",
       "0            1    1        AS            ANC                 SEA   \n",
       "1            1    1        AS            SEA                 ANC   \n",
       "2            1    1        AS            ANC                 SEA   \n",
       "3            1    1        AS            ANC                 PDX   \n",
       "4            1    1        AS            FAI                 SEA   \n",
       "...        ...  ...       ...            ...                 ...   \n",
       "5819074     12   31        VX            LGA                 DAL   \n",
       "5819075     12   31        VX            BOS                 SFO   \n",
       "5819076     12   31        VX            SFO                 LAS   \n",
       "5819077     12   31        VX            LAX                 LAS   \n",
       "5819078     12   31        VX            OGG                 SFO   \n",
       "\n",
       "         SCHEDULED_DEPARTURE  DEPARTURE_DELAY  SCHEDULED_ARRIVAL  \\\n",
       "0                          5            -11.0                430   \n",
       "1                         25             -1.0                320   \n",
       "2                         45             -4.0                509   \n",
       "3                         50             -4.0                525   \n",
       "4                        115             -8.0                548   \n",
       "...                      ...              ...                ...   \n",
       "5819074                 1855             -8.0               2200   \n",
       "5819075                 1859            -10.0               2250   \n",
       "5819076                 1940             -7.0               2110   \n",
       "5819077                 1950             -2.0               2055   \n",
       "5819078                 2320             -2.0                625   \n",
       "\n",
       "         ARRIVAL_TIME  ARRIVAL_DELAY  DIVERTED  CANCELLED IATA_CODE  \n",
       "0               408.0          -22.0         0          0        AS  \n",
       "1               259.0          -21.0         0          0        AS  \n",
       "2               455.0          -14.0         0          0        AS  \n",
       "3               507.0          -18.0         0          0        AS  \n",
       "4               545.0           -3.0         0          0        AS  \n",
       "...               ...            ...       ...        ...       ...  \n",
       "5819074        2154.0           -6.0         0          0        VX  \n",
       "5819075        2204.0          -46.0         0          0        VX  \n",
       "5819076        2052.0          -18.0         0          0        VX  \n",
       "5819077        2044.0          -11.0         0          0        VX  \n",
       "5819078         548.0          -37.0         0          0        VX  \n",
       "\n",
       "[5819079 rows x 13 columns]"
      ]
     },
     "execution_count": 22,
     "metadata": {},
     "output_type": "execute_result"
    }
   ],
   "source": [
    "# filtering out unnecessary columns\n",
    "df1=df.drop(['YEAR','FLIGHT_NUMBER','AIRLINE','DISTANCE','TAIL_NUMBER','TAXI_OUT',\n",
    "                                              'SCHEDULED_TIME','DEPARTURE_TIME','WHEELS_OFF','ELAPSED_TIME',\n",
    "                                              'AIR_TIME','WHEELS_ON','DAY_OF_WEEK','TAXI_IN'],axis=1)\n",
    "df1"
   ]
  },
  {
   "cell_type": "code",
   "execution_count": 23,
   "id": "c1c0e957",
   "metadata": {},
   "outputs": [
    {
     "data": {
      "text/html": [
       "<div>\n",
       "<style scoped>\n",
       "    .dataframe tbody tr th:only-of-type {\n",
       "        vertical-align: middle;\n",
       "    }\n",
       "\n",
       "    .dataframe tbody tr th {\n",
       "        vertical-align: top;\n",
       "    }\n",
       "\n",
       "    .dataframe thead th {\n",
       "        text-align: right;\n",
       "    }\n",
       "</style>\n",
       "<table border=\"1\" class=\"dataframe\">\n",
       "  <thead>\n",
       "    <tr style=\"text-align: right;\">\n",
       "      <th></th>\n",
       "      <th>MONTH</th>\n",
       "      <th>DAY</th>\n",
       "      <th>AIRLINE_x</th>\n",
       "      <th>ORIGIN_AIRPORT</th>\n",
       "      <th>DESTINATION_AIRPORT</th>\n",
       "      <th>SCHEDULED_DEPARTURE</th>\n",
       "      <th>DEPARTURE_DELAY</th>\n",
       "      <th>SCHEDULED_ARRIVAL</th>\n",
       "      <th>ARRIVAL_TIME</th>\n",
       "      <th>ARRIVAL_DELAY</th>\n",
       "      <th>DIVERTED</th>\n",
       "      <th>CANCELLED</th>\n",
       "      <th>IATA_CODE</th>\n",
       "    </tr>\n",
       "  </thead>\n",
       "  <tbody>\n",
       "    <tr>\n",
       "      <th>0</th>\n",
       "      <td>1</td>\n",
       "      <td>1</td>\n",
       "      <td>AS</td>\n",
       "      <td>ANC</td>\n",
       "      <td>SEA</td>\n",
       "      <td>5</td>\n",
       "      <td>-11.0</td>\n",
       "      <td>430</td>\n",
       "      <td>408.0</td>\n",
       "      <td>-22.0</td>\n",
       "      <td>0</td>\n",
       "      <td>0</td>\n",
       "      <td>AS</td>\n",
       "    </tr>\n",
       "    <tr>\n",
       "      <th>1</th>\n",
       "      <td>1</td>\n",
       "      <td>1</td>\n",
       "      <td>AS</td>\n",
       "      <td>SEA</td>\n",
       "      <td>ANC</td>\n",
       "      <td>25</td>\n",
       "      <td>-1.0</td>\n",
       "      <td>320</td>\n",
       "      <td>259.0</td>\n",
       "      <td>-21.0</td>\n",
       "      <td>0</td>\n",
       "      <td>0</td>\n",
       "      <td>AS</td>\n",
       "    </tr>\n",
       "    <tr>\n",
       "      <th>2</th>\n",
       "      <td>1</td>\n",
       "      <td>1</td>\n",
       "      <td>AS</td>\n",
       "      <td>ANC</td>\n",
       "      <td>SEA</td>\n",
       "      <td>45</td>\n",
       "      <td>-4.0</td>\n",
       "      <td>509</td>\n",
       "      <td>455.0</td>\n",
       "      <td>-14.0</td>\n",
       "      <td>0</td>\n",
       "      <td>0</td>\n",
       "      <td>AS</td>\n",
       "    </tr>\n",
       "    <tr>\n",
       "      <th>3</th>\n",
       "      <td>1</td>\n",
       "      <td>1</td>\n",
       "      <td>AS</td>\n",
       "      <td>ANC</td>\n",
       "      <td>PDX</td>\n",
       "      <td>50</td>\n",
       "      <td>-4.0</td>\n",
       "      <td>525</td>\n",
       "      <td>507.0</td>\n",
       "      <td>-18.0</td>\n",
       "      <td>0</td>\n",
       "      <td>0</td>\n",
       "      <td>AS</td>\n",
       "    </tr>\n",
       "    <tr>\n",
       "      <th>4</th>\n",
       "      <td>1</td>\n",
       "      <td>1</td>\n",
       "      <td>AS</td>\n",
       "      <td>FAI</td>\n",
       "      <td>SEA</td>\n",
       "      <td>115</td>\n",
       "      <td>-8.0</td>\n",
       "      <td>548</td>\n",
       "      <td>545.0</td>\n",
       "      <td>-3.0</td>\n",
       "      <td>0</td>\n",
       "      <td>0</td>\n",
       "      <td>AS</td>\n",
       "    </tr>\n",
       "    <tr>\n",
       "      <th>...</th>\n",
       "      <td>...</td>\n",
       "      <td>...</td>\n",
       "      <td>...</td>\n",
       "      <td>...</td>\n",
       "      <td>...</td>\n",
       "      <td>...</td>\n",
       "      <td>...</td>\n",
       "      <td>...</td>\n",
       "      <td>...</td>\n",
       "      <td>...</td>\n",
       "      <td>...</td>\n",
       "      <td>...</td>\n",
       "      <td>...</td>\n",
       "    </tr>\n",
       "    <tr>\n",
       "      <th>299995</th>\n",
       "      <td>3</td>\n",
       "      <td>30</td>\n",
       "      <td>AA</td>\n",
       "      <td>FLL</td>\n",
       "      <td>DFW</td>\n",
       "      <td>1200</td>\n",
       "      <td>-3.0</td>\n",
       "      <td>1421</td>\n",
       "      <td>1422.0</td>\n",
       "      <td>1.0</td>\n",
       "      <td>0</td>\n",
       "      <td>0</td>\n",
       "      <td>AA</td>\n",
       "    </tr>\n",
       "    <tr>\n",
       "      <th>299996</th>\n",
       "      <td>3</td>\n",
       "      <td>30</td>\n",
       "      <td>AA</td>\n",
       "      <td>DFW</td>\n",
       "      <td>MSY</td>\n",
       "      <td>1203</td>\n",
       "      <td>-2.0</td>\n",
       "      <td>1338</td>\n",
       "      <td>1321.0</td>\n",
       "      <td>-17.0</td>\n",
       "      <td>0</td>\n",
       "      <td>0</td>\n",
       "      <td>AA</td>\n",
       "    </tr>\n",
       "    <tr>\n",
       "      <th>299997</th>\n",
       "      <td>3</td>\n",
       "      <td>30</td>\n",
       "      <td>AA</td>\n",
       "      <td>PBI</td>\n",
       "      <td>DFW</td>\n",
       "      <td>1205</td>\n",
       "      <td>8.0</td>\n",
       "      <td>1420</td>\n",
       "      <td>1428.0</td>\n",
       "      <td>8.0</td>\n",
       "      <td>0</td>\n",
       "      <td>0</td>\n",
       "      <td>AA</td>\n",
       "    </tr>\n",
       "    <tr>\n",
       "      <th>299998</th>\n",
       "      <td>3</td>\n",
       "      <td>30</td>\n",
       "      <td>AA</td>\n",
       "      <td>DFW</td>\n",
       "      <td>MIA</td>\n",
       "      <td>1205</td>\n",
       "      <td>22.0</td>\n",
       "      <td>1600</td>\n",
       "      <td>1555.0</td>\n",
       "      <td>-5.0</td>\n",
       "      <td>0</td>\n",
       "      <td>0</td>\n",
       "      <td>AA</td>\n",
       "    </tr>\n",
       "    <tr>\n",
       "      <th>299999</th>\n",
       "      <td>3</td>\n",
       "      <td>30</td>\n",
       "      <td>AA</td>\n",
       "      <td>DFW</td>\n",
       "      <td>TUS</td>\n",
       "      <td>1205</td>\n",
       "      <td>-3.0</td>\n",
       "      <td>1236</td>\n",
       "      <td>1225.0</td>\n",
       "      <td>-11.0</td>\n",
       "      <td>0</td>\n",
       "      <td>0</td>\n",
       "      <td>AA</td>\n",
       "    </tr>\n",
       "  </tbody>\n",
       "</table>\n",
       "<p>300000 rows × 13 columns</p>\n",
       "</div>"
      ],
      "text/plain": [
       "        MONTH  DAY AIRLINE_x ORIGIN_AIRPORT DESTINATION_AIRPORT  \\\n",
       "0           1    1        AS            ANC                 SEA   \n",
       "1           1    1        AS            SEA                 ANC   \n",
       "2           1    1        AS            ANC                 SEA   \n",
       "3           1    1        AS            ANC                 PDX   \n",
       "4           1    1        AS            FAI                 SEA   \n",
       "...       ...  ...       ...            ...                 ...   \n",
       "299995      3   30        AA            FLL                 DFW   \n",
       "299996      3   30        AA            DFW                 MSY   \n",
       "299997      3   30        AA            PBI                 DFW   \n",
       "299998      3   30        AA            DFW                 MIA   \n",
       "299999      3   30        AA            DFW                 TUS   \n",
       "\n",
       "        SCHEDULED_DEPARTURE  DEPARTURE_DELAY  SCHEDULED_ARRIVAL  ARRIVAL_TIME  \\\n",
       "0                         5            -11.0                430         408.0   \n",
       "1                        25             -1.0                320         259.0   \n",
       "2                        45             -4.0                509         455.0   \n",
       "3                        50             -4.0                525         507.0   \n",
       "4                       115             -8.0                548         545.0   \n",
       "...                     ...              ...                ...           ...   \n",
       "299995                 1200             -3.0               1421        1422.0   \n",
       "299996                 1203             -2.0               1338        1321.0   \n",
       "299997                 1205              8.0               1420        1428.0   \n",
       "299998                 1205             22.0               1600        1555.0   \n",
       "299999                 1205             -3.0               1236        1225.0   \n",
       "\n",
       "        ARRIVAL_DELAY  DIVERTED  CANCELLED IATA_CODE  \n",
       "0               -22.0         0          0        AS  \n",
       "1               -21.0         0          0        AS  \n",
       "2               -14.0         0          0        AS  \n",
       "3               -18.0         0          0        AS  \n",
       "4                -3.0         0          0        AS  \n",
       "...               ...       ...        ...       ...  \n",
       "299995            1.0         0          0        AA  \n",
       "299996          -17.0         0          0        AA  \n",
       "299997            8.0         0          0        AA  \n",
       "299998           -5.0         0          0        AA  \n",
       "299999          -11.0         0          0        AA  \n",
       "\n",
       "[300000 rows x 13 columns]"
      ]
     },
     "execution_count": 23,
     "metadata": {},
     "output_type": "execute_result"
    }
   ],
   "source": [
    "df2 = df1[0:300000]\n",
    "df2"
   ]
  },
  {
   "cell_type": "code",
   "execution_count": 24,
   "id": "b4967cf4",
   "metadata": {},
   "outputs": [],
   "source": [
    "df2=df2.fillna(df2.mean())"
   ]
  },
  {
   "cell_type": "code",
   "execution_count": 25,
   "id": "56a0837f",
   "metadata": {},
   "outputs": [],
   "source": [
    "result=[]\n"
   ]
  },
  {
   "cell_type": "code",
   "execution_count": 26,
   "id": "a84d73eb",
   "metadata": {},
   "outputs": [],
   "source": [
    "for row in df2['ARRIVAL_DELAY']:\n",
    "  if row > 15:\n",
    "    result.append(1)\n",
    "  else:\n",
    "    result.append(0)"
   ]
  },
  {
   "cell_type": "code",
   "execution_count": 27,
   "id": "2832887e",
   "metadata": {},
   "outputs": [],
   "source": [
    "df2['result'] = result"
   ]
  },
  {
   "cell_type": "code",
   "execution_count": 28,
   "id": "87bc0a1b",
   "metadata": {},
   "outputs": [
    {
     "data": {
      "text/plain": [
       "result\n",
       "0    252928\n",
       "1     47072\n",
       "dtype: int64"
      ]
     },
     "execution_count": 28,
     "metadata": {},
     "output_type": "execute_result"
    }
   ],
   "source": [
    "df2.value_counts('result')"
   ]
  },
  {
   "cell_type": "code",
   "execution_count": 29,
   "id": "f32292ac",
   "metadata": {},
   "outputs": [
    {
     "data": {
      "text/html": [
       "<div>\n",
       "<style scoped>\n",
       "    .dataframe tbody tr th:only-of-type {\n",
       "        vertical-align: middle;\n",
       "    }\n",
       "\n",
       "    .dataframe tbody tr th {\n",
       "        vertical-align: top;\n",
       "    }\n",
       "\n",
       "    .dataframe thead th {\n",
       "        text-align: right;\n",
       "    }\n",
       "</style>\n",
       "<table border=\"1\" class=\"dataframe\">\n",
       "  <thead>\n",
       "    <tr style=\"text-align: right;\">\n",
       "      <th></th>\n",
       "      <th>MONTH</th>\n",
       "      <th>DAY</th>\n",
       "      <th>SCHEDULED_DEPARTURE</th>\n",
       "      <th>DEPARTURE_DELAY</th>\n",
       "      <th>SCHEDULED_ARRIVAL</th>\n",
       "      <th>DIVERTED</th>\n",
       "      <th>CANCELLED</th>\n",
       "      <th>result</th>\n",
       "    </tr>\n",
       "  </thead>\n",
       "  <tbody>\n",
       "    <tr>\n",
       "      <th>0</th>\n",
       "      <td>1</td>\n",
       "      <td>1</td>\n",
       "      <td>5</td>\n",
       "      <td>-11.0</td>\n",
       "      <td>430</td>\n",
       "      <td>0</td>\n",
       "      <td>0</td>\n",
       "      <td>0</td>\n",
       "    </tr>\n",
       "    <tr>\n",
       "      <th>1</th>\n",
       "      <td>1</td>\n",
       "      <td>1</td>\n",
       "      <td>25</td>\n",
       "      <td>-1.0</td>\n",
       "      <td>320</td>\n",
       "      <td>0</td>\n",
       "      <td>0</td>\n",
       "      <td>0</td>\n",
       "    </tr>\n",
       "    <tr>\n",
       "      <th>2</th>\n",
       "      <td>1</td>\n",
       "      <td>1</td>\n",
       "      <td>45</td>\n",
       "      <td>-4.0</td>\n",
       "      <td>509</td>\n",
       "      <td>0</td>\n",
       "      <td>0</td>\n",
       "      <td>0</td>\n",
       "    </tr>\n",
       "    <tr>\n",
       "      <th>3</th>\n",
       "      <td>1</td>\n",
       "      <td>1</td>\n",
       "      <td>50</td>\n",
       "      <td>-4.0</td>\n",
       "      <td>525</td>\n",
       "      <td>0</td>\n",
       "      <td>0</td>\n",
       "      <td>0</td>\n",
       "    </tr>\n",
       "    <tr>\n",
       "      <th>4</th>\n",
       "      <td>1</td>\n",
       "      <td>1</td>\n",
       "      <td>115</td>\n",
       "      <td>-8.0</td>\n",
       "      <td>548</td>\n",
       "      <td>0</td>\n",
       "      <td>0</td>\n",
       "      <td>0</td>\n",
       "    </tr>\n",
       "    <tr>\n",
       "      <th>...</th>\n",
       "      <td>...</td>\n",
       "      <td>...</td>\n",
       "      <td>...</td>\n",
       "      <td>...</td>\n",
       "      <td>...</td>\n",
       "      <td>...</td>\n",
       "      <td>...</td>\n",
       "      <td>...</td>\n",
       "    </tr>\n",
       "    <tr>\n",
       "      <th>299995</th>\n",
       "      <td>3</td>\n",
       "      <td>30</td>\n",
       "      <td>1200</td>\n",
       "      <td>-3.0</td>\n",
       "      <td>1421</td>\n",
       "      <td>0</td>\n",
       "      <td>0</td>\n",
       "      <td>0</td>\n",
       "    </tr>\n",
       "    <tr>\n",
       "      <th>299996</th>\n",
       "      <td>3</td>\n",
       "      <td>30</td>\n",
       "      <td>1203</td>\n",
       "      <td>-2.0</td>\n",
       "      <td>1338</td>\n",
       "      <td>0</td>\n",
       "      <td>0</td>\n",
       "      <td>0</td>\n",
       "    </tr>\n",
       "    <tr>\n",
       "      <th>299997</th>\n",
       "      <td>3</td>\n",
       "      <td>30</td>\n",
       "      <td>1205</td>\n",
       "      <td>8.0</td>\n",
       "      <td>1420</td>\n",
       "      <td>0</td>\n",
       "      <td>0</td>\n",
       "      <td>0</td>\n",
       "    </tr>\n",
       "    <tr>\n",
       "      <th>299998</th>\n",
       "      <td>3</td>\n",
       "      <td>30</td>\n",
       "      <td>1205</td>\n",
       "      <td>22.0</td>\n",
       "      <td>1600</td>\n",
       "      <td>0</td>\n",
       "      <td>0</td>\n",
       "      <td>0</td>\n",
       "    </tr>\n",
       "    <tr>\n",
       "      <th>299999</th>\n",
       "      <td>3</td>\n",
       "      <td>30</td>\n",
       "      <td>1205</td>\n",
       "      <td>-3.0</td>\n",
       "      <td>1236</td>\n",
       "      <td>0</td>\n",
       "      <td>0</td>\n",
       "      <td>0</td>\n",
       "    </tr>\n",
       "  </tbody>\n",
       "</table>\n",
       "<p>300000 rows × 8 columns</p>\n",
       "</div>"
      ],
      "text/plain": [
       "        MONTH  DAY  SCHEDULED_DEPARTURE  DEPARTURE_DELAY  SCHEDULED_ARRIVAL  \\\n",
       "0           1    1                    5            -11.0                430   \n",
       "1           1    1                   25             -1.0                320   \n",
       "2           1    1                   45             -4.0                509   \n",
       "3           1    1                   50             -4.0                525   \n",
       "4           1    1                  115             -8.0                548   \n",
       "...       ...  ...                  ...              ...                ...   \n",
       "299995      3   30                 1200             -3.0               1421   \n",
       "299996      3   30                 1203             -2.0               1338   \n",
       "299997      3   30                 1205              8.0               1420   \n",
       "299998      3   30                 1205             22.0               1600   \n",
       "299999      3   30                 1205             -3.0               1236   \n",
       "\n",
       "        DIVERTED  CANCELLED  result  \n",
       "0              0          0       0  \n",
       "1              0          0       0  \n",
       "2              0          0       0  \n",
       "3              0          0       0  \n",
       "4              0          0       0  \n",
       "...          ...        ...     ...  \n",
       "299995         0          0       0  \n",
       "299996         0          0       0  \n",
       "299997         0          0       0  \n",
       "299998         0          0       0  \n",
       "299999         0          0       0  \n",
       "\n",
       "[300000 rows x 8 columns]"
      ]
     },
     "execution_count": 29,
     "metadata": {},
     "output_type": "execute_result"
    }
   ],
   "source": [
    "# removing some more columns\n",
    "df2=df2.drop(['ORIGIN_AIRPORT', 'DESTINATION_AIRPORT', 'ARRIVAL_TIME', 'ARRIVAL_DELAY', 'AIRLINE_x', 'IATA_CODE'],axis=1)\n",
    "df2"
   ]
  },
  {
   "cell_type": "markdown",
   "id": "6507f866",
   "metadata": {},
   "source": [
    "## Modeling"
   ]
  },
  {
   "cell_type": "code",
   "execution_count": 30,
   "id": "e802023d",
   "metadata": {},
   "outputs": [],
   "source": [
    "data = df2.values\n",
    "X, y = data[:,:-1], data[:,-1]\n",
    "X_train, X_test, y_train, y_test = train_test_split(X, y, test_size=0.30, random_state=2021)  # splitting in the ratio 70:30\n"
   ]
  },
  {
   "cell_type": "code",
   "execution_count": 31,
   "id": "fce73b7f",
   "metadata": {},
   "outputs": [],
   "source": [
    "scaled_features = StandardScaler().fit_transform(X_train, X_test)"
   ]
  },
  {
   "cell_type": "markdown",
   "id": "a8e35b38",
   "metadata": {},
   "source": [
    " ### <b> Logistic Regression </b>\n",
    " \n",
    "Logistic Regression is used to predict the probability of a target variable.\n",
    "\n",
    "R-Squared value This value ranges from 0 to 1. Value ‘1’ indicates predictor perfectly accounts for all the variations in Y. Value ‘0’ indicates that predictor ‘x’ accounts for no variation in ‘y’.\n",
    "\n"
   ]
  },
  {
   "cell_type": "code",
   "execution_count": 32,
   "id": "7f43bd0b",
   "metadata": {},
   "outputs": [],
   "source": [
    "model_lr = LogisticRegression()\n",
    "result = model_lr.fit(X_train, y_train)"
   ]
  },
  {
   "cell_type": "code",
   "execution_count": 33,
   "id": "1b6b1fa8",
   "metadata": {},
   "outputs": [
    {
     "name": "stdout",
     "output_type": "stream",
     "text": [
      "The accuracy of the Logistic Regression  is 0.9308111111111111\n"
     ]
    }
   ],
   "source": [
    "from sklearn import metrics\n",
    "prediction_test1 = model_lr.predict(X_test)\n",
    "# Printing the prediction accuracy from training on logistic regression\n",
    "print ('The accuracy of the Logistic Regression  is',metrics.accuracy_score(y_test, prediction_test1))"
   ]
  },
  {
   "cell_type": "markdown",
   "id": "d7e05d70",
   "metadata": {},
   "source": [
    "### Decision Tree\n",
    "Decision Tree algorithm is used to create a model that predicts the value of a target variable, for which the decision tree uses the tree representation to solve the problem in which the leaf node corresponds to a class label and attributes are represented on the internal node of the tree.\n"
   ]
  },
  {
   "cell_type": "code",
   "execution_count": 34,
   "id": "dfc9cd24",
   "metadata": {},
   "outputs": [
    {
     "name": "stdout",
     "output_type": "stream",
     "text": [
      "The accuracy of the Decision Tree is 0.8868111111111111\n"
     ]
    }
   ],
   "source": [
    "#DecisionTree\n",
    "model_dt=DecisionTreeClassifier()\n",
    "model_dt.fit(X_train,y_train)\n",
    "preds=model_dt.predict(X_test)\n",
    "print('The accuracy of the Decision Tree is',metrics.accuracy_score(y_test,preds))"
   ]
  },
  {
   "cell_type": "markdown",
   "id": "d8e97a93",
   "metadata": {},
   "source": [
    "### Random forest\n",
    "\n",
    "Random Forest algorithm builds multiple decision trees and merges them together to get a more accurate and stable prediction.\n",
    "\n"
   ]
  },
  {
   "cell_type": "code",
   "execution_count": 35,
   "id": "469451d7",
   "metadata": {},
   "outputs": [
    {
     "name": "stdout",
     "output_type": "stream",
     "text": [
      "The accuracy of the Random forest is 0.9331333333333334\n"
     ]
    }
   ],
   "source": [
    "X_train, X_test, y_train, y_test = train_test_split(X, y, test_size=0.2, random_state=101)\n",
    "model_rf = RandomForestClassifier(n_estimators=1000 , oob_score = True, n_jobs = -1,random_state =50, max_features = \"auto\",max_leaf_nodes = 30)\n",
    "model_rf.fit(X_train, y_train)\n",
    "\n",
    "#accuracy given Random forest and printing the accuracy given by the random forest algorithm\n",
    "preds = model_rf.predict(X_test)\n",
    "print ('The accuracy of the Random forest is',metrics.accuracy_score(y_test, preds))"
   ]
  },
  {
   "cell_type": "markdown",
   "id": "268b65ba",
   "metadata": {},
   "source": [
    "### Naive Bayes\n",
    "Naïve Bayes is a simple learning algorithm that utilizes Bayes rule together with a strong assumption that the attributes are conditionally independent, given the class.\n",
    "\n"
   ]
  },
  {
   "cell_type": "code",
   "execution_count": 36,
   "id": "7a2862dc",
   "metadata": {},
   "outputs": [
    {
     "data": {
      "text/plain": [
       "0.8195666666666667"
      ]
     },
     "execution_count": 36,
     "metadata": {},
     "output_type": "execute_result"
    }
   ],
   "source": [
    "#NaiveBayes\n",
    "model_gnb = GaussianNB(priors=None)\n",
    "model_gnb.fit(X_train, y_train)\n",
    "preds = model_gnb.predict(X_test)\n",
    "metrics.accuracy_score(y_test, preds)"
   ]
  },
  {
   "cell_type": "markdown",
   "id": "3af85a0c",
   "metadata": {},
   "source": [
    "## Evaluation"
   ]
  },
  {
   "cell_type": "code",
   "execution_count": 37,
   "id": "02921612",
   "metadata": {},
   "outputs": [
    {
     "data": {
      "text/html": [
       "        <script type=\"text/javascript\">\n",
       "        window.PlotlyConfig = {MathJaxConfig: 'local'};\n",
       "        if (window.MathJax) {MathJax.Hub.Config({SVG: {font: \"STIX-Web\"}});}\n",
       "        if (typeof require !== 'undefined') {\n",
       "        require.undef(\"plotly\");\n",
       "        requirejs.config({\n",
       "            paths: {\n",
       "                'plotly': ['https://cdn.plot.ly/plotly-2.2.0.min']\n",
       "            }\n",
       "        });\n",
       "        require(['plotly'], function(Plotly) {\n",
       "            window._Plotly = Plotly;\n",
       "        });\n",
       "        }\n",
       "        </script>\n",
       "        "
      ]
     },
     "metadata": {},
     "output_type": "display_data"
    }
   ],
   "source": [
    "import plotly.offline as py #Model Performance\n",
    "py.init_notebook_mode(connected=True)\n",
    "import plotly.figure_factory as ff\n",
    "from sklearn.metrics import f1_score\n",
    "from sklearn.metrics import cohen_kappa_score\n",
    "from sklearn.metrics import confusion_matrix,accuracy_score,classification_report\n",
    "from sklearn.metrics import roc_auc_score,roc_curve\n",
    "import statsmodels.api as sm\n",
    "from sklearn.metrics import precision_score,recall_score\n"
   ]
  },
  {
   "cell_type": "code",
   "execution_count": 38,
   "id": "a5d7be18",
   "metadata": {},
   "outputs": [
    {
     "data": {
      "application/vnd.plotly.v1+json": {
       "config": {
        "linkText": "Export to plot.ly",
        "plotlyServerURL": "https://plot.ly",
        "showLink": false
       },
       "data": [
        {
         "colorscale": [
          [
           0,
           "#00083e"
          ],
          [
           0.5,
           "#ededee"
          ],
          [
           1,
           "#ffffff"
          ]
         ],
         "hoverinfo": "none",
         "opacity": 0.75,
         "showscale": false,
         "type": "heatmap",
         "z": [
          [
           0,
           0,
           0,
           0,
           0,
           0,
           0
          ],
          [
           0.5,
           0.5,
           0.5,
           0.5,
           0.5,
           0.5,
           0.5
          ],
          [
           1,
           1,
           1,
           1,
           1,
           1,
           1
          ],
          [
           0.5,
           0.5,
           0.5,
           0.5,
           0.5,
           0.5,
           0.5
          ],
          [
           1,
           1,
           1,
           1,
           1,
           1,
           1
          ]
         ]
        }
       ],
       "layout": {
        "annotations": [
         {
          "align": "left",
          "font": {
           "color": "#ffffff"
          },
          "showarrow": false,
          "text": "<b>Model</b>",
          "x": -0.45,
          "xanchor": "left",
          "xref": "x",
          "y": 0,
          "yref": "y"
         },
         {
          "align": "left",
          "font": {
           "color": "#ffffff"
          },
          "showarrow": false,
          "text": "<b>Accuracy score</b>",
          "x": 0.55,
          "xanchor": "left",
          "xref": "x",
          "y": 0,
          "yref": "y"
         },
         {
          "align": "left",
          "font": {
           "color": "#ffffff"
          },
          "showarrow": false,
          "text": "<b>Recall score</b>",
          "x": 1.55,
          "xanchor": "left",
          "xref": "x",
          "y": 0,
          "yref": "y"
         },
         {
          "align": "left",
          "font": {
           "color": "#ffffff"
          },
          "showarrow": false,
          "text": "<b>Precision</b>",
          "x": 2.55,
          "xanchor": "left",
          "xref": "x",
          "y": 0,
          "yref": "y"
         },
         {
          "align": "left",
          "font": {
           "color": "#ffffff"
          },
          "showarrow": false,
          "text": "<b>F1 score</b>",
          "x": 3.55,
          "xanchor": "left",
          "xref": "x",
          "y": 0,
          "yref": "y"
         },
         {
          "align": "left",
          "font": {
           "color": "#ffffff"
          },
          "showarrow": false,
          "text": "<b>Area under curve</b>",
          "x": 4.55,
          "xanchor": "left",
          "xref": "x",
          "y": 0,
          "yref": "y"
         },
         {
          "align": "left",
          "font": {
           "color": "#ffffff"
          },
          "showarrow": false,
          "text": "<b>Kappa metric</b>",
          "x": 5.55,
          "xanchor": "left",
          "xref": "x",
          "y": 0,
          "yref": "y"
         },
         {
          "align": "left",
          "font": {
           "color": "#000000"
          },
          "showarrow": false,
          "text": "Logistic Regression",
          "x": -0.45,
          "xanchor": "left",
          "xref": "x",
          "y": 1,
          "yref": "y"
         },
         {
          "align": "left",
          "font": {
           "color": "#000000"
          },
          "showarrow": false,
          "text": "0.9313",
          "x": 0.55,
          "xanchor": "left",
          "xref": "x",
          "y": 1,
          "yref": "y"
         },
         {
          "align": "left",
          "font": {
           "color": "#000000"
          },
          "showarrow": false,
          "text": "0.6435",
          "x": 1.55,
          "xanchor": "left",
          "xref": "x",
          "y": 1,
          "yref": "y"
         },
         {
          "align": "left",
          "font": {
           "color": "#000000"
          },
          "showarrow": false,
          "text": "0.8828",
          "x": 2.55,
          "xanchor": "left",
          "xref": "x",
          "y": 1,
          "yref": "y"
         },
         {
          "align": "left",
          "font": {
           "color": "#000000"
          },
          "showarrow": false,
          "text": "0.7444",
          "x": 3.55,
          "xanchor": "left",
          "xref": "x",
          "y": 1,
          "yref": "y"
         },
         {
          "align": "left",
          "font": {
           "color": "#000000"
          },
          "showarrow": false,
          "text": "0.8139",
          "x": 4.55,
          "xanchor": "left",
          "xref": "x",
          "y": 1,
          "yref": "y"
         },
         {
          "align": "left",
          "font": {
           "color": "#000000"
          },
          "showarrow": false,
          "text": "0.7058",
          "x": 5.55,
          "xanchor": "left",
          "xref": "x",
          "y": 1,
          "yref": "y"
         },
         {
          "align": "left",
          "font": {
           "color": "#000000"
          },
          "showarrow": false,
          "text": "Decision Tree",
          "x": -0.45,
          "xanchor": "left",
          "xref": "x",
          "y": 2,
          "yref": "y"
         },
         {
          "align": "left",
          "font": {
           "color": "#000000"
          },
          "showarrow": false,
          "text": "0.8875",
          "x": 0.55,
          "xanchor": "left",
          "xref": "x",
          "y": 2,
          "yref": "y"
         },
         {
          "align": "left",
          "font": {
           "color": "#000000"
          },
          "showarrow": false,
          "text": "0.669",
          "x": 1.55,
          "xanchor": "left",
          "xref": "x",
          "y": 2,
          "yref": "y"
         },
         {
          "align": "left",
          "font": {
           "color": "#000000"
          },
          "showarrow": false,
          "text": "0.6305",
          "x": 2.55,
          "xanchor": "left",
          "xref": "x",
          "y": 2,
          "yref": "y"
         },
         {
          "align": "left",
          "font": {
           "color": "#000000"
          },
          "showarrow": false,
          "text": "0.6492",
          "x": 3.55,
          "xanchor": "left",
          "xref": "x",
          "y": 2,
          "yref": "y"
         },
         {
          "align": "left",
          "font": {
           "color": "#000000"
          },
          "showarrow": false,
          "text": "0.7984",
          "x": 4.55,
          "xanchor": "left",
          "xref": "x",
          "y": 2,
          "yref": "y"
         },
         {
          "align": "left",
          "font": {
           "color": "#000000"
          },
          "showarrow": false,
          "text": "0.5823",
          "x": 5.55,
          "xanchor": "left",
          "xref": "x",
          "y": 2,
          "yref": "y"
         },
         {
          "align": "left",
          "font": {
           "color": "#000000"
          },
          "showarrow": false,
          "text": "RF Classifier",
          "x": -0.45,
          "xanchor": "left",
          "xref": "x",
          "y": 3,
          "yref": "y"
         },
         {
          "align": "left",
          "font": {
           "color": "#000000"
          },
          "showarrow": false,
          "text": "0.9331",
          "x": 0.55,
          "xanchor": "left",
          "xref": "x",
          "y": 3,
          "yref": "y"
         },
         {
          "align": "left",
          "font": {
           "color": "#000000"
          },
          "showarrow": false,
          "text": "0.6721",
          "x": 1.55,
          "xanchor": "left",
          "xref": "x",
          "y": 3,
          "yref": "y"
         },
         {
          "align": "left",
          "font": {
           "color": "#000000"
          },
          "showarrow": false,
          "text": "0.8682",
          "x": 2.55,
          "xanchor": "left",
          "xref": "x",
          "y": 3,
          "yref": "y"
         },
         {
          "align": "left",
          "font": {
           "color": "#000000"
          },
          "showarrow": false,
          "text": "0.7577",
          "x": 3.55,
          "xanchor": "left",
          "xref": "x",
          "y": 3,
          "yref": "y"
         },
         {
          "align": "left",
          "font": {
           "color": "#000000"
          },
          "showarrow": false,
          "text": "0.8267",
          "x": 4.55,
          "xanchor": "left",
          "xref": "x",
          "y": 3,
          "yref": "y"
         },
         {
          "align": "left",
          "font": {
           "color": "#000000"
          },
          "showarrow": false,
          "text": "0.7196",
          "x": 5.55,
          "xanchor": "left",
          "xref": "x",
          "y": 3,
          "yref": "y"
         },
         {
          "align": "left",
          "font": {
           "color": "#000000"
          },
          "showarrow": false,
          "text": "Naive Bayes",
          "x": -0.45,
          "xanchor": "left",
          "xref": "x",
          "y": 4,
          "yref": "y"
         },
         {
          "align": "left",
          "font": {
           "color": "#000000"
          },
          "showarrow": false,
          "text": "0.8196",
          "x": 0.55,
          "xanchor": "left",
          "xref": "x",
          "y": 4,
          "yref": "y"
         },
         {
          "align": "left",
          "font": {
           "color": "#000000"
          },
          "showarrow": false,
          "text": "0.8147",
          "x": 1.55,
          "xanchor": "left",
          "xref": "x",
          "y": 4,
          "yref": "y"
         },
         {
          "align": "left",
          "font": {
           "color": "#000000"
          },
          "showarrow": false,
          "text": "0.4553",
          "x": 2.55,
          "xanchor": "left",
          "xref": "x",
          "y": 4,
          "yref": "y"
         },
         {
          "align": "left",
          "font": {
           "color": "#000000"
          },
          "showarrow": false,
          "text": "0.5841",
          "x": 3.55,
          "xanchor": "left",
          "xref": "x",
          "y": 4,
          "yref": "y"
         },
         {
          "align": "left",
          "font": {
           "color": "#000000"
          },
          "showarrow": false,
          "text": "0.8176",
          "x": 4.55,
          "xanchor": "left",
          "xref": "x",
          "y": 4,
          "yref": "y"
         },
         {
          "align": "left",
          "font": {
           "color": "#000000"
          },
          "showarrow": false,
          "text": "0.4804",
          "x": 5.55,
          "xanchor": "left",
          "xref": "x",
          "y": 4,
          "yref": "y"
         }
        ],
        "height": 200,
        "margin": {
         "b": 0,
         "l": 0,
         "r": 0,
         "t": 0
        },
        "template": {
         "data": {
          "bar": [
           {
            "error_x": {
             "color": "#2a3f5f"
            },
            "error_y": {
             "color": "#2a3f5f"
            },
            "marker": {
             "line": {
              "color": "#E5ECF6",
              "width": 0.5
             },
             "pattern": {
              "fillmode": "overlay",
              "size": 10,
              "solidity": 0.2
             }
            },
            "type": "bar"
           }
          ],
          "barpolar": [
           {
            "marker": {
             "line": {
              "color": "#E5ECF6",
              "width": 0.5
             },
             "pattern": {
              "fillmode": "overlay",
              "size": 10,
              "solidity": 0.2
             }
            },
            "type": "barpolar"
           }
          ],
          "carpet": [
           {
            "aaxis": {
             "endlinecolor": "#2a3f5f",
             "gridcolor": "white",
             "linecolor": "white",
             "minorgridcolor": "white",
             "startlinecolor": "#2a3f5f"
            },
            "baxis": {
             "endlinecolor": "#2a3f5f",
             "gridcolor": "white",
             "linecolor": "white",
             "minorgridcolor": "white",
             "startlinecolor": "#2a3f5f"
            },
            "type": "carpet"
           }
          ],
          "choropleth": [
           {
            "colorbar": {
             "outlinewidth": 0,
             "ticks": ""
            },
            "type": "choropleth"
           }
          ],
          "contour": [
           {
            "colorbar": {
             "outlinewidth": 0,
             "ticks": ""
            },
            "colorscale": [
             [
              0,
              "#0d0887"
             ],
             [
              0.1111111111111111,
              "#46039f"
             ],
             [
              0.2222222222222222,
              "#7201a8"
             ],
             [
              0.3333333333333333,
              "#9c179e"
             ],
             [
              0.4444444444444444,
              "#bd3786"
             ],
             [
              0.5555555555555556,
              "#d8576b"
             ],
             [
              0.6666666666666666,
              "#ed7953"
             ],
             [
              0.7777777777777778,
              "#fb9f3a"
             ],
             [
              0.8888888888888888,
              "#fdca26"
             ],
             [
              1,
              "#f0f921"
             ]
            ],
            "type": "contour"
           }
          ],
          "contourcarpet": [
           {
            "colorbar": {
             "outlinewidth": 0,
             "ticks": ""
            },
            "type": "contourcarpet"
           }
          ],
          "heatmap": [
           {
            "colorbar": {
             "outlinewidth": 0,
             "ticks": ""
            },
            "colorscale": [
             [
              0,
              "#0d0887"
             ],
             [
              0.1111111111111111,
              "#46039f"
             ],
             [
              0.2222222222222222,
              "#7201a8"
             ],
             [
              0.3333333333333333,
              "#9c179e"
             ],
             [
              0.4444444444444444,
              "#bd3786"
             ],
             [
              0.5555555555555556,
              "#d8576b"
             ],
             [
              0.6666666666666666,
              "#ed7953"
             ],
             [
              0.7777777777777778,
              "#fb9f3a"
             ],
             [
              0.8888888888888888,
              "#fdca26"
             ],
             [
              1,
              "#f0f921"
             ]
            ],
            "type": "heatmap"
           }
          ],
          "heatmapgl": [
           {
            "colorbar": {
             "outlinewidth": 0,
             "ticks": ""
            },
            "colorscale": [
             [
              0,
              "#0d0887"
             ],
             [
              0.1111111111111111,
              "#46039f"
             ],
             [
              0.2222222222222222,
              "#7201a8"
             ],
             [
              0.3333333333333333,
              "#9c179e"
             ],
             [
              0.4444444444444444,
              "#bd3786"
             ],
             [
              0.5555555555555556,
              "#d8576b"
             ],
             [
              0.6666666666666666,
              "#ed7953"
             ],
             [
              0.7777777777777778,
              "#fb9f3a"
             ],
             [
              0.8888888888888888,
              "#fdca26"
             ],
             [
              1,
              "#f0f921"
             ]
            ],
            "type": "heatmapgl"
           }
          ],
          "histogram": [
           {
            "marker": {
             "pattern": {
              "fillmode": "overlay",
              "size": 10,
              "solidity": 0.2
             }
            },
            "type": "histogram"
           }
          ],
          "histogram2d": [
           {
            "colorbar": {
             "outlinewidth": 0,
             "ticks": ""
            },
            "colorscale": [
             [
              0,
              "#0d0887"
             ],
             [
              0.1111111111111111,
              "#46039f"
             ],
             [
              0.2222222222222222,
              "#7201a8"
             ],
             [
              0.3333333333333333,
              "#9c179e"
             ],
             [
              0.4444444444444444,
              "#bd3786"
             ],
             [
              0.5555555555555556,
              "#d8576b"
             ],
             [
              0.6666666666666666,
              "#ed7953"
             ],
             [
              0.7777777777777778,
              "#fb9f3a"
             ],
             [
              0.8888888888888888,
              "#fdca26"
             ],
             [
              1,
              "#f0f921"
             ]
            ],
            "type": "histogram2d"
           }
          ],
          "histogram2dcontour": [
           {
            "colorbar": {
             "outlinewidth": 0,
             "ticks": ""
            },
            "colorscale": [
             [
              0,
              "#0d0887"
             ],
             [
              0.1111111111111111,
              "#46039f"
             ],
             [
              0.2222222222222222,
              "#7201a8"
             ],
             [
              0.3333333333333333,
              "#9c179e"
             ],
             [
              0.4444444444444444,
              "#bd3786"
             ],
             [
              0.5555555555555556,
              "#d8576b"
             ],
             [
              0.6666666666666666,
              "#ed7953"
             ],
             [
              0.7777777777777778,
              "#fb9f3a"
             ],
             [
              0.8888888888888888,
              "#fdca26"
             ],
             [
              1,
              "#f0f921"
             ]
            ],
            "type": "histogram2dcontour"
           }
          ],
          "mesh3d": [
           {
            "colorbar": {
             "outlinewidth": 0,
             "ticks": ""
            },
            "type": "mesh3d"
           }
          ],
          "parcoords": [
           {
            "line": {
             "colorbar": {
              "outlinewidth": 0,
              "ticks": ""
             }
            },
            "type": "parcoords"
           }
          ],
          "pie": [
           {
            "automargin": true,
            "type": "pie"
           }
          ],
          "scatter": [
           {
            "marker": {
             "colorbar": {
              "outlinewidth": 0,
              "ticks": ""
             }
            },
            "type": "scatter"
           }
          ],
          "scatter3d": [
           {
            "line": {
             "colorbar": {
              "outlinewidth": 0,
              "ticks": ""
             }
            },
            "marker": {
             "colorbar": {
              "outlinewidth": 0,
              "ticks": ""
             }
            },
            "type": "scatter3d"
           }
          ],
          "scattercarpet": [
           {
            "marker": {
             "colorbar": {
              "outlinewidth": 0,
              "ticks": ""
             }
            },
            "type": "scattercarpet"
           }
          ],
          "scattergeo": [
           {
            "marker": {
             "colorbar": {
              "outlinewidth": 0,
              "ticks": ""
             }
            },
            "type": "scattergeo"
           }
          ],
          "scattergl": [
           {
            "marker": {
             "colorbar": {
              "outlinewidth": 0,
              "ticks": ""
             }
            },
            "type": "scattergl"
           }
          ],
          "scattermapbox": [
           {
            "marker": {
             "colorbar": {
              "outlinewidth": 0,
              "ticks": ""
             }
            },
            "type": "scattermapbox"
           }
          ],
          "scatterpolar": [
           {
            "marker": {
             "colorbar": {
              "outlinewidth": 0,
              "ticks": ""
             }
            },
            "type": "scatterpolar"
           }
          ],
          "scatterpolargl": [
           {
            "marker": {
             "colorbar": {
              "outlinewidth": 0,
              "ticks": ""
             }
            },
            "type": "scatterpolargl"
           }
          ],
          "scatterternary": [
           {
            "marker": {
             "colorbar": {
              "outlinewidth": 0,
              "ticks": ""
             }
            },
            "type": "scatterternary"
           }
          ],
          "surface": [
           {
            "colorbar": {
             "outlinewidth": 0,
             "ticks": ""
            },
            "colorscale": [
             [
              0,
              "#0d0887"
             ],
             [
              0.1111111111111111,
              "#46039f"
             ],
             [
              0.2222222222222222,
              "#7201a8"
             ],
             [
              0.3333333333333333,
              "#9c179e"
             ],
             [
              0.4444444444444444,
              "#bd3786"
             ],
             [
              0.5555555555555556,
              "#d8576b"
             ],
             [
              0.6666666666666666,
              "#ed7953"
             ],
             [
              0.7777777777777778,
              "#fb9f3a"
             ],
             [
              0.8888888888888888,
              "#fdca26"
             ],
             [
              1,
              "#f0f921"
             ]
            ],
            "type": "surface"
           }
          ],
          "table": [
           {
            "cells": {
             "fill": {
              "color": "#EBF0F8"
             },
             "line": {
              "color": "white"
             }
            },
            "header": {
             "fill": {
              "color": "#C8D4E3"
             },
             "line": {
              "color": "white"
             }
            },
            "type": "table"
           }
          ]
         },
         "layout": {
          "annotationdefaults": {
           "arrowcolor": "#2a3f5f",
           "arrowhead": 0,
           "arrowwidth": 1
          },
          "autotypenumbers": "strict",
          "coloraxis": {
           "colorbar": {
            "outlinewidth": 0,
            "ticks": ""
           }
          },
          "colorscale": {
           "diverging": [
            [
             0,
             "#8e0152"
            ],
            [
             0.1,
             "#c51b7d"
            ],
            [
             0.2,
             "#de77ae"
            ],
            [
             0.3,
             "#f1b6da"
            ],
            [
             0.4,
             "#fde0ef"
            ],
            [
             0.5,
             "#f7f7f7"
            ],
            [
             0.6,
             "#e6f5d0"
            ],
            [
             0.7,
             "#b8e186"
            ],
            [
             0.8,
             "#7fbc41"
            ],
            [
             0.9,
             "#4d9221"
            ],
            [
             1,
             "#276419"
            ]
           ],
           "sequential": [
            [
             0,
             "#0d0887"
            ],
            [
             0.1111111111111111,
             "#46039f"
            ],
            [
             0.2222222222222222,
             "#7201a8"
            ],
            [
             0.3333333333333333,
             "#9c179e"
            ],
            [
             0.4444444444444444,
             "#bd3786"
            ],
            [
             0.5555555555555556,
             "#d8576b"
            ],
            [
             0.6666666666666666,
             "#ed7953"
            ],
            [
             0.7777777777777778,
             "#fb9f3a"
            ],
            [
             0.8888888888888888,
             "#fdca26"
            ],
            [
             1,
             "#f0f921"
            ]
           ],
           "sequentialminus": [
            [
             0,
             "#0d0887"
            ],
            [
             0.1111111111111111,
             "#46039f"
            ],
            [
             0.2222222222222222,
             "#7201a8"
            ],
            [
             0.3333333333333333,
             "#9c179e"
            ],
            [
             0.4444444444444444,
             "#bd3786"
            ],
            [
             0.5555555555555556,
             "#d8576b"
            ],
            [
             0.6666666666666666,
             "#ed7953"
            ],
            [
             0.7777777777777778,
             "#fb9f3a"
            ],
            [
             0.8888888888888888,
             "#fdca26"
            ],
            [
             1,
             "#f0f921"
            ]
           ]
          },
          "colorway": [
           "#636efa",
           "#EF553B",
           "#00cc96",
           "#ab63fa",
           "#FFA15A",
           "#19d3f3",
           "#FF6692",
           "#B6E880",
           "#FF97FF",
           "#FECB52"
          ],
          "font": {
           "color": "#2a3f5f"
          },
          "geo": {
           "bgcolor": "white",
           "lakecolor": "white",
           "landcolor": "#E5ECF6",
           "showlakes": true,
           "showland": true,
           "subunitcolor": "white"
          },
          "hoverlabel": {
           "align": "left"
          },
          "hovermode": "closest",
          "mapbox": {
           "style": "light"
          },
          "paper_bgcolor": "white",
          "plot_bgcolor": "#E5ECF6",
          "polar": {
           "angularaxis": {
            "gridcolor": "white",
            "linecolor": "white",
            "ticks": ""
           },
           "bgcolor": "#E5ECF6",
           "radialaxis": {
            "gridcolor": "white",
            "linecolor": "white",
            "ticks": ""
           }
          },
          "scene": {
           "xaxis": {
            "backgroundcolor": "#E5ECF6",
            "gridcolor": "white",
            "gridwidth": 2,
            "linecolor": "white",
            "showbackground": true,
            "ticks": "",
            "zerolinecolor": "white"
           },
           "yaxis": {
            "backgroundcolor": "#E5ECF6",
            "gridcolor": "white",
            "gridwidth": 2,
            "linecolor": "white",
            "showbackground": true,
            "ticks": "",
            "zerolinecolor": "white"
           },
           "zaxis": {
            "backgroundcolor": "#E5ECF6",
            "gridcolor": "white",
            "gridwidth": 2,
            "linecolor": "white",
            "showbackground": true,
            "ticks": "",
            "zerolinecolor": "white"
           }
          },
          "shapedefaults": {
           "line": {
            "color": "#2a3f5f"
           }
          },
          "ternary": {
           "aaxis": {
            "gridcolor": "white",
            "linecolor": "white",
            "ticks": ""
           },
           "baxis": {
            "gridcolor": "white",
            "linecolor": "white",
            "ticks": ""
           },
           "bgcolor": "#E5ECF6",
           "caxis": {
            "gridcolor": "white",
            "linecolor": "white",
            "ticks": ""
           }
          },
          "title": {
           "x": 0.05
          },
          "xaxis": {
           "automargin": true,
           "gridcolor": "white",
           "linecolor": "white",
           "ticks": "",
           "title": {
            "standoff": 15
           },
           "zerolinecolor": "white",
           "zerolinewidth": 2
          },
          "yaxis": {
           "automargin": true,
           "gridcolor": "white",
           "linecolor": "white",
           "ticks": "",
           "title": {
            "standoff": 15
           },
           "zerolinecolor": "white",
           "zerolinewidth": 2
          }
         }
        },
        "xaxis": {
         "dtick": 1,
         "gridwidth": 2,
         "showticklabels": false,
         "tick0": -0.5,
         "ticks": "",
         "zeroline": false
        },
        "yaxis": {
         "autorange": "reversed",
         "dtick": 1,
         "gridwidth": 2,
         "showticklabels": false,
         "tick0": 0.5,
         "ticks": "",
         "zeroline": false
        }
       }
      },
      "text/html": [
       "<div>                            <div id=\"0eb8f5c7-51e6-4fc9-adfb-48aea88c0e54\" class=\"plotly-graph-div\" style=\"height:200px; width:100%;\"></div>            <script type=\"text/javascript\">                require([\"plotly\"], function(Plotly) {                    window.PLOTLYENV=window.PLOTLYENV || {};                                    if (document.getElementById(\"0eb8f5c7-51e6-4fc9-adfb-48aea88c0e54\")) {                    Plotly.newPlot(                        \"0eb8f5c7-51e6-4fc9-adfb-48aea88c0e54\",                        [{\"colorscale\":[[0,\"#00083e\"],[0.5,\"#ededee\"],[1,\"#ffffff\"]],\"hoverinfo\":\"none\",\"opacity\":0.75,\"showscale\":false,\"type\":\"heatmap\",\"z\":[[0,0,0,0,0,0,0],[0.5,0.5,0.5,0.5,0.5,0.5,0.5],[1,1,1,1,1,1,1],[0.5,0.5,0.5,0.5,0.5,0.5,0.5],[1,1,1,1,1,1,1]]}],                        {\"annotations\":[{\"align\":\"left\",\"font\":{\"color\":\"#ffffff\"},\"showarrow\":false,\"text\":\"<b>Model</b>\",\"x\":-0.45,\"xanchor\":\"left\",\"xref\":\"x\",\"y\":0,\"yref\":\"y\"},{\"align\":\"left\",\"font\":{\"color\":\"#ffffff\"},\"showarrow\":false,\"text\":\"<b>Accuracy score</b>\",\"x\":0.55,\"xanchor\":\"left\",\"xref\":\"x\",\"y\":0,\"yref\":\"y\"},{\"align\":\"left\",\"font\":{\"color\":\"#ffffff\"},\"showarrow\":false,\"text\":\"<b>Recall score</b>\",\"x\":1.55,\"xanchor\":\"left\",\"xref\":\"x\",\"y\":0,\"yref\":\"y\"},{\"align\":\"left\",\"font\":{\"color\":\"#ffffff\"},\"showarrow\":false,\"text\":\"<b>Precision</b>\",\"x\":2.55,\"xanchor\":\"left\",\"xref\":\"x\",\"y\":0,\"yref\":\"y\"},{\"align\":\"left\",\"font\":{\"color\":\"#ffffff\"},\"showarrow\":false,\"text\":\"<b>F1 score</b>\",\"x\":3.55,\"xanchor\":\"left\",\"xref\":\"x\",\"y\":0,\"yref\":\"y\"},{\"align\":\"left\",\"font\":{\"color\":\"#ffffff\"},\"showarrow\":false,\"text\":\"<b>Area under curve</b>\",\"x\":4.55,\"xanchor\":\"left\",\"xref\":\"x\",\"y\":0,\"yref\":\"y\"},{\"align\":\"left\",\"font\":{\"color\":\"#ffffff\"},\"showarrow\":false,\"text\":\"<b>Kappa metric</b>\",\"x\":5.55,\"xanchor\":\"left\",\"xref\":\"x\",\"y\":0,\"yref\":\"y\"},{\"align\":\"left\",\"font\":{\"color\":\"#000000\"},\"showarrow\":false,\"text\":\"Logistic Regression\",\"x\":-0.45,\"xanchor\":\"left\",\"xref\":\"x\",\"y\":1,\"yref\":\"y\"},{\"align\":\"left\",\"font\":{\"color\":\"#000000\"},\"showarrow\":false,\"text\":\"0.9313\",\"x\":0.55,\"xanchor\":\"left\",\"xref\":\"x\",\"y\":1,\"yref\":\"y\"},{\"align\":\"left\",\"font\":{\"color\":\"#000000\"},\"showarrow\":false,\"text\":\"0.6435\",\"x\":1.55,\"xanchor\":\"left\",\"xref\":\"x\",\"y\":1,\"yref\":\"y\"},{\"align\":\"left\",\"font\":{\"color\":\"#000000\"},\"showarrow\":false,\"text\":\"0.8828\",\"x\":2.55,\"xanchor\":\"left\",\"xref\":\"x\",\"y\":1,\"yref\":\"y\"},{\"align\":\"left\",\"font\":{\"color\":\"#000000\"},\"showarrow\":false,\"text\":\"0.7444\",\"x\":3.55,\"xanchor\":\"left\",\"xref\":\"x\",\"y\":1,\"yref\":\"y\"},{\"align\":\"left\",\"font\":{\"color\":\"#000000\"},\"showarrow\":false,\"text\":\"0.8139\",\"x\":4.55,\"xanchor\":\"left\",\"xref\":\"x\",\"y\":1,\"yref\":\"y\"},{\"align\":\"left\",\"font\":{\"color\":\"#000000\"},\"showarrow\":false,\"text\":\"0.7058\",\"x\":5.55,\"xanchor\":\"left\",\"xref\":\"x\",\"y\":1,\"yref\":\"y\"},{\"align\":\"left\",\"font\":{\"color\":\"#000000\"},\"showarrow\":false,\"text\":\"Decision Tree\",\"x\":-0.45,\"xanchor\":\"left\",\"xref\":\"x\",\"y\":2,\"yref\":\"y\"},{\"align\":\"left\",\"font\":{\"color\":\"#000000\"},\"showarrow\":false,\"text\":\"0.8875\",\"x\":0.55,\"xanchor\":\"left\",\"xref\":\"x\",\"y\":2,\"yref\":\"y\"},{\"align\":\"left\",\"font\":{\"color\":\"#000000\"},\"showarrow\":false,\"text\":\"0.669\",\"x\":1.55,\"xanchor\":\"left\",\"xref\":\"x\",\"y\":2,\"yref\":\"y\"},{\"align\":\"left\",\"font\":{\"color\":\"#000000\"},\"showarrow\":false,\"text\":\"0.6305\",\"x\":2.55,\"xanchor\":\"left\",\"xref\":\"x\",\"y\":2,\"yref\":\"y\"},{\"align\":\"left\",\"font\":{\"color\":\"#000000\"},\"showarrow\":false,\"text\":\"0.6492\",\"x\":3.55,\"xanchor\":\"left\",\"xref\":\"x\",\"y\":2,\"yref\":\"y\"},{\"align\":\"left\",\"font\":{\"color\":\"#000000\"},\"showarrow\":false,\"text\":\"0.7984\",\"x\":4.55,\"xanchor\":\"left\",\"xref\":\"x\",\"y\":2,\"yref\":\"y\"},{\"align\":\"left\",\"font\":{\"color\":\"#000000\"},\"showarrow\":false,\"text\":\"0.5823\",\"x\":5.55,\"xanchor\":\"left\",\"xref\":\"x\",\"y\":2,\"yref\":\"y\"},{\"align\":\"left\",\"font\":{\"color\":\"#000000\"},\"showarrow\":false,\"text\":\"RF Classifier\",\"x\":-0.45,\"xanchor\":\"left\",\"xref\":\"x\",\"y\":3,\"yref\":\"y\"},{\"align\":\"left\",\"font\":{\"color\":\"#000000\"},\"showarrow\":false,\"text\":\"0.9331\",\"x\":0.55,\"xanchor\":\"left\",\"xref\":\"x\",\"y\":3,\"yref\":\"y\"},{\"align\":\"left\",\"font\":{\"color\":\"#000000\"},\"showarrow\":false,\"text\":\"0.6721\",\"x\":1.55,\"xanchor\":\"left\",\"xref\":\"x\",\"y\":3,\"yref\":\"y\"},{\"align\":\"left\",\"font\":{\"color\":\"#000000\"},\"showarrow\":false,\"text\":\"0.8682\",\"x\":2.55,\"xanchor\":\"left\",\"xref\":\"x\",\"y\":3,\"yref\":\"y\"},{\"align\":\"left\",\"font\":{\"color\":\"#000000\"},\"showarrow\":false,\"text\":\"0.7577\",\"x\":3.55,\"xanchor\":\"left\",\"xref\":\"x\",\"y\":3,\"yref\":\"y\"},{\"align\":\"left\",\"font\":{\"color\":\"#000000\"},\"showarrow\":false,\"text\":\"0.8267\",\"x\":4.55,\"xanchor\":\"left\",\"xref\":\"x\",\"y\":3,\"yref\":\"y\"},{\"align\":\"left\",\"font\":{\"color\":\"#000000\"},\"showarrow\":false,\"text\":\"0.7196\",\"x\":5.55,\"xanchor\":\"left\",\"xref\":\"x\",\"y\":3,\"yref\":\"y\"},{\"align\":\"left\",\"font\":{\"color\":\"#000000\"},\"showarrow\":false,\"text\":\"Naive Bayes\",\"x\":-0.45,\"xanchor\":\"left\",\"xref\":\"x\",\"y\":4,\"yref\":\"y\"},{\"align\":\"left\",\"font\":{\"color\":\"#000000\"},\"showarrow\":false,\"text\":\"0.8196\",\"x\":0.55,\"xanchor\":\"left\",\"xref\":\"x\",\"y\":4,\"yref\":\"y\"},{\"align\":\"left\",\"font\":{\"color\":\"#000000\"},\"showarrow\":false,\"text\":\"0.8147\",\"x\":1.55,\"xanchor\":\"left\",\"xref\":\"x\",\"y\":4,\"yref\":\"y\"},{\"align\":\"left\",\"font\":{\"color\":\"#000000\"},\"showarrow\":false,\"text\":\"0.4553\",\"x\":2.55,\"xanchor\":\"left\",\"xref\":\"x\",\"y\":4,\"yref\":\"y\"},{\"align\":\"left\",\"font\":{\"color\":\"#000000\"},\"showarrow\":false,\"text\":\"0.5841\",\"x\":3.55,\"xanchor\":\"left\",\"xref\":\"x\",\"y\":4,\"yref\":\"y\"},{\"align\":\"left\",\"font\":{\"color\":\"#000000\"},\"showarrow\":false,\"text\":\"0.8176\",\"x\":4.55,\"xanchor\":\"left\",\"xref\":\"x\",\"y\":4,\"yref\":\"y\"},{\"align\":\"left\",\"font\":{\"color\":\"#000000\"},\"showarrow\":false,\"text\":\"0.4804\",\"x\":5.55,\"xanchor\":\"left\",\"xref\":\"x\",\"y\":4,\"yref\":\"y\"}],\"height\":200,\"margin\":{\"b\":0,\"l\":0,\"r\":0,\"t\":0},\"template\":{\"data\":{\"bar\":[{\"error_x\":{\"color\":\"#2a3f5f\"},\"error_y\":{\"color\":\"#2a3f5f\"},\"marker\":{\"line\":{\"color\":\"#E5ECF6\",\"width\":0.5},\"pattern\":{\"fillmode\":\"overlay\",\"size\":10,\"solidity\":0.2}},\"type\":\"bar\"}],\"barpolar\":[{\"marker\":{\"line\":{\"color\":\"#E5ECF6\",\"width\":0.5},\"pattern\":{\"fillmode\":\"overlay\",\"size\":10,\"solidity\":0.2}},\"type\":\"barpolar\"}],\"carpet\":[{\"aaxis\":{\"endlinecolor\":\"#2a3f5f\",\"gridcolor\":\"white\",\"linecolor\":\"white\",\"minorgridcolor\":\"white\",\"startlinecolor\":\"#2a3f5f\"},\"baxis\":{\"endlinecolor\":\"#2a3f5f\",\"gridcolor\":\"white\",\"linecolor\":\"white\",\"minorgridcolor\":\"white\",\"startlinecolor\":\"#2a3f5f\"},\"type\":\"carpet\"}],\"choropleth\":[{\"colorbar\":{\"outlinewidth\":0,\"ticks\":\"\"},\"type\":\"choropleth\"}],\"contour\":[{\"colorbar\":{\"outlinewidth\":0,\"ticks\":\"\"},\"colorscale\":[[0.0,\"#0d0887\"],[0.1111111111111111,\"#46039f\"],[0.2222222222222222,\"#7201a8\"],[0.3333333333333333,\"#9c179e\"],[0.4444444444444444,\"#bd3786\"],[0.5555555555555556,\"#d8576b\"],[0.6666666666666666,\"#ed7953\"],[0.7777777777777778,\"#fb9f3a\"],[0.8888888888888888,\"#fdca26\"],[1.0,\"#f0f921\"]],\"type\":\"contour\"}],\"contourcarpet\":[{\"colorbar\":{\"outlinewidth\":0,\"ticks\":\"\"},\"type\":\"contourcarpet\"}],\"heatmap\":[{\"colorbar\":{\"outlinewidth\":0,\"ticks\":\"\"},\"colorscale\":[[0.0,\"#0d0887\"],[0.1111111111111111,\"#46039f\"],[0.2222222222222222,\"#7201a8\"],[0.3333333333333333,\"#9c179e\"],[0.4444444444444444,\"#bd3786\"],[0.5555555555555556,\"#d8576b\"],[0.6666666666666666,\"#ed7953\"],[0.7777777777777778,\"#fb9f3a\"],[0.8888888888888888,\"#fdca26\"],[1.0,\"#f0f921\"]],\"type\":\"heatmap\"}],\"heatmapgl\":[{\"colorbar\":{\"outlinewidth\":0,\"ticks\":\"\"},\"colorscale\":[[0.0,\"#0d0887\"],[0.1111111111111111,\"#46039f\"],[0.2222222222222222,\"#7201a8\"],[0.3333333333333333,\"#9c179e\"],[0.4444444444444444,\"#bd3786\"],[0.5555555555555556,\"#d8576b\"],[0.6666666666666666,\"#ed7953\"],[0.7777777777777778,\"#fb9f3a\"],[0.8888888888888888,\"#fdca26\"],[1.0,\"#f0f921\"]],\"type\":\"heatmapgl\"}],\"histogram\":[{\"marker\":{\"pattern\":{\"fillmode\":\"overlay\",\"size\":10,\"solidity\":0.2}},\"type\":\"histogram\"}],\"histogram2d\":[{\"colorbar\":{\"outlinewidth\":0,\"ticks\":\"\"},\"colorscale\":[[0.0,\"#0d0887\"],[0.1111111111111111,\"#46039f\"],[0.2222222222222222,\"#7201a8\"],[0.3333333333333333,\"#9c179e\"],[0.4444444444444444,\"#bd3786\"],[0.5555555555555556,\"#d8576b\"],[0.6666666666666666,\"#ed7953\"],[0.7777777777777778,\"#fb9f3a\"],[0.8888888888888888,\"#fdca26\"],[1.0,\"#f0f921\"]],\"type\":\"histogram2d\"}],\"histogram2dcontour\":[{\"colorbar\":{\"outlinewidth\":0,\"ticks\":\"\"},\"colorscale\":[[0.0,\"#0d0887\"],[0.1111111111111111,\"#46039f\"],[0.2222222222222222,\"#7201a8\"],[0.3333333333333333,\"#9c179e\"],[0.4444444444444444,\"#bd3786\"],[0.5555555555555556,\"#d8576b\"],[0.6666666666666666,\"#ed7953\"],[0.7777777777777778,\"#fb9f3a\"],[0.8888888888888888,\"#fdca26\"],[1.0,\"#f0f921\"]],\"type\":\"histogram2dcontour\"}],\"mesh3d\":[{\"colorbar\":{\"outlinewidth\":0,\"ticks\":\"\"},\"type\":\"mesh3d\"}],\"parcoords\":[{\"line\":{\"colorbar\":{\"outlinewidth\":0,\"ticks\":\"\"}},\"type\":\"parcoords\"}],\"pie\":[{\"automargin\":true,\"type\":\"pie\"}],\"scatter\":[{\"marker\":{\"colorbar\":{\"outlinewidth\":0,\"ticks\":\"\"}},\"type\":\"scatter\"}],\"scatter3d\":[{\"line\":{\"colorbar\":{\"outlinewidth\":0,\"ticks\":\"\"}},\"marker\":{\"colorbar\":{\"outlinewidth\":0,\"ticks\":\"\"}},\"type\":\"scatter3d\"}],\"scattercarpet\":[{\"marker\":{\"colorbar\":{\"outlinewidth\":0,\"ticks\":\"\"}},\"type\":\"scattercarpet\"}],\"scattergeo\":[{\"marker\":{\"colorbar\":{\"outlinewidth\":0,\"ticks\":\"\"}},\"type\":\"scattergeo\"}],\"scattergl\":[{\"marker\":{\"colorbar\":{\"outlinewidth\":0,\"ticks\":\"\"}},\"type\":\"scattergl\"}],\"scattermapbox\":[{\"marker\":{\"colorbar\":{\"outlinewidth\":0,\"ticks\":\"\"}},\"type\":\"scattermapbox\"}],\"scatterpolar\":[{\"marker\":{\"colorbar\":{\"outlinewidth\":0,\"ticks\":\"\"}},\"type\":\"scatterpolar\"}],\"scatterpolargl\":[{\"marker\":{\"colorbar\":{\"outlinewidth\":0,\"ticks\":\"\"}},\"type\":\"scatterpolargl\"}],\"scatterternary\":[{\"marker\":{\"colorbar\":{\"outlinewidth\":0,\"ticks\":\"\"}},\"type\":\"scatterternary\"}],\"surface\":[{\"colorbar\":{\"outlinewidth\":0,\"ticks\":\"\"},\"colorscale\":[[0.0,\"#0d0887\"],[0.1111111111111111,\"#46039f\"],[0.2222222222222222,\"#7201a8\"],[0.3333333333333333,\"#9c179e\"],[0.4444444444444444,\"#bd3786\"],[0.5555555555555556,\"#d8576b\"],[0.6666666666666666,\"#ed7953\"],[0.7777777777777778,\"#fb9f3a\"],[0.8888888888888888,\"#fdca26\"],[1.0,\"#f0f921\"]],\"type\":\"surface\"}],\"table\":[{\"cells\":{\"fill\":{\"color\":\"#EBF0F8\"},\"line\":{\"color\":\"white\"}},\"header\":{\"fill\":{\"color\":\"#C8D4E3\"},\"line\":{\"color\":\"white\"}},\"type\":\"table\"}]},\"layout\":{\"annotationdefaults\":{\"arrowcolor\":\"#2a3f5f\",\"arrowhead\":0,\"arrowwidth\":1},\"autotypenumbers\":\"strict\",\"coloraxis\":{\"colorbar\":{\"outlinewidth\":0,\"ticks\":\"\"}},\"colorscale\":{\"diverging\":[[0,\"#8e0152\"],[0.1,\"#c51b7d\"],[0.2,\"#de77ae\"],[0.3,\"#f1b6da\"],[0.4,\"#fde0ef\"],[0.5,\"#f7f7f7\"],[0.6,\"#e6f5d0\"],[0.7,\"#b8e186\"],[0.8,\"#7fbc41\"],[0.9,\"#4d9221\"],[1,\"#276419\"]],\"sequential\":[[0.0,\"#0d0887\"],[0.1111111111111111,\"#46039f\"],[0.2222222222222222,\"#7201a8\"],[0.3333333333333333,\"#9c179e\"],[0.4444444444444444,\"#bd3786\"],[0.5555555555555556,\"#d8576b\"],[0.6666666666666666,\"#ed7953\"],[0.7777777777777778,\"#fb9f3a\"],[0.8888888888888888,\"#fdca26\"],[1.0,\"#f0f921\"]],\"sequentialminus\":[[0.0,\"#0d0887\"],[0.1111111111111111,\"#46039f\"],[0.2222222222222222,\"#7201a8\"],[0.3333333333333333,\"#9c179e\"],[0.4444444444444444,\"#bd3786\"],[0.5555555555555556,\"#d8576b\"],[0.6666666666666666,\"#ed7953\"],[0.7777777777777778,\"#fb9f3a\"],[0.8888888888888888,\"#fdca26\"],[1.0,\"#f0f921\"]]},\"colorway\":[\"#636efa\",\"#EF553B\",\"#00cc96\",\"#ab63fa\",\"#FFA15A\",\"#19d3f3\",\"#FF6692\",\"#B6E880\",\"#FF97FF\",\"#FECB52\"],\"font\":{\"color\":\"#2a3f5f\"},\"geo\":{\"bgcolor\":\"white\",\"lakecolor\":\"white\",\"landcolor\":\"#E5ECF6\",\"showlakes\":true,\"showland\":true,\"subunitcolor\":\"white\"},\"hoverlabel\":{\"align\":\"left\"},\"hovermode\":\"closest\",\"mapbox\":{\"style\":\"light\"},\"paper_bgcolor\":\"white\",\"plot_bgcolor\":\"#E5ECF6\",\"polar\":{\"angularaxis\":{\"gridcolor\":\"white\",\"linecolor\":\"white\",\"ticks\":\"\"},\"bgcolor\":\"#E5ECF6\",\"radialaxis\":{\"gridcolor\":\"white\",\"linecolor\":\"white\",\"ticks\":\"\"}},\"scene\":{\"xaxis\":{\"backgroundcolor\":\"#E5ECF6\",\"gridcolor\":\"white\",\"gridwidth\":2,\"linecolor\":\"white\",\"showbackground\":true,\"ticks\":\"\",\"zerolinecolor\":\"white\"},\"yaxis\":{\"backgroundcolor\":\"#E5ECF6\",\"gridcolor\":\"white\",\"gridwidth\":2,\"linecolor\":\"white\",\"showbackground\":true,\"ticks\":\"\",\"zerolinecolor\":\"white\"},\"zaxis\":{\"backgroundcolor\":\"#E5ECF6\",\"gridcolor\":\"white\",\"gridwidth\":2,\"linecolor\":\"white\",\"showbackground\":true,\"ticks\":\"\",\"zerolinecolor\":\"white\"}},\"shapedefaults\":{\"line\":{\"color\":\"#2a3f5f\"}},\"ternary\":{\"aaxis\":{\"gridcolor\":\"white\",\"linecolor\":\"white\",\"ticks\":\"\"},\"baxis\":{\"gridcolor\":\"white\",\"linecolor\":\"white\",\"ticks\":\"\"},\"bgcolor\":\"#E5ECF6\",\"caxis\":{\"gridcolor\":\"white\",\"linecolor\":\"white\",\"ticks\":\"\"}},\"title\":{\"x\":0.05},\"xaxis\":{\"automargin\":true,\"gridcolor\":\"white\",\"linecolor\":\"white\",\"ticks\":\"\",\"title\":{\"standoff\":15},\"zerolinecolor\":\"white\",\"zerolinewidth\":2},\"yaxis\":{\"automargin\":true,\"gridcolor\":\"white\",\"linecolor\":\"white\",\"ticks\":\"\",\"title\":{\"standoff\":15},\"zerolinecolor\":\"white\",\"zerolinewidth\":2}}},\"xaxis\":{\"dtick\":1,\"gridwidth\":2,\"showticklabels\":false,\"tick0\":-0.5,\"ticks\":\"\",\"zeroline\":false},\"yaxis\":{\"autorange\":\"reversed\",\"dtick\":1,\"gridwidth\":2,\"showticklabels\":false,\"tick0\":0.5,\"ticks\":\"\",\"zeroline\":false}},                        {\"responsive\": true}                    ).then(function(){\n",
       "                            \n",
       "var gd = document.getElementById('0eb8f5c7-51e6-4fc9-adfb-48aea88c0e54');\n",
       "var x = new MutationObserver(function (mutations, observer) {{\n",
       "        var display = window.getComputedStyle(gd).display;\n",
       "        if (!display || display === 'none') {{\n",
       "            console.log([gd, 'removed!']);\n",
       "            Plotly.purge(gd);\n",
       "            observer.disconnect();\n",
       "        }}\n",
       "}});\n",
       "\n",
       "// Listen for the removal of the full notebook cells\n",
       "var notebookContainer = gd.closest('#notebook-container');\n",
       "if (notebookContainer) {{\n",
       "    x.observe(notebookContainer, {childList: true});\n",
       "}}\n",
       "\n",
       "// Listen for the clearing of the current output cell\n",
       "var outputEl = gd.closest('.output');\n",
       "if (outputEl) {{\n",
       "    x.observe(outputEl, {childList: true});\n",
       "}}\n",
       "\n",
       "                        })                };                });            </script>        </div>"
      ]
     },
     "metadata": {},
     "output_type": "display_data"
    }
   ],
   "source": [
    "def model_report(model,X_train, X_test, y_train, y_test,name) :\n",
    "    model.fit(X_train,y_train)\n",
    "    predictions  = model.predict(X_test)\n",
    "    accuracy     = accuracy_score(y_test,predictions)\n",
    "    recallscore  = recall_score(y_test,predictions)\n",
    "    precision    = precision_score(y_test,predictions)\n",
    "    roc_auc      = roc_auc_score(y_test,predictions)\n",
    "    f1score      = f1_score(y_test,predictions) \n",
    "    kappa_metric = cohen_kappa_score(y_test,predictions)\n",
    "    \n",
    "    df3 = pd.DataFrame({\"Model\"           : [name],\n",
    "                       \"Accuracy score\"  : [accuracy],\n",
    "                       \"Recall score\"    : [recallscore],\n",
    "                       \"Precision\"       : [precision],\n",
    "                       \"F1 score\"        : [f1score],\n",
    "                       \"Area under curve\": [roc_auc],\n",
    "                       \"Kappa metric\"    : [kappa_metric],\n",
    "                      })\n",
    "    return df3\n",
    "\n",
    "#outputs for every model\n",
    "model1 = model_report(model_lr,X_train, X_test, y_train, y_test, \"Logistic Regression\")\n",
    "model2 = model_report(model_dt,X_train, X_test, y_train, y_test,\"Decision Tree\")\n",
    "model3 = model_report(model_rf,X_train, X_test, y_train, y_test,\"RF Classifier\")\n",
    "model4 = model_report(model_gnb,X_train, X_test, y_train, y_test,\"Naive Bayes\")\n",
    "\n",
    "model_performances = pd.concat([model1,model2,model3,model4],axis = 0).reset_index()\n",
    "\n",
    "model_performances = model_performances.drop(columns = \"index\",axis =1)\n",
    "\n",
    "table  = ff.create_table(np.round(model_performances,4))\n",
    "\n",
    "py.iplot(table)\n",
    "\n"
   ]
  },
  {
   "cell_type": "code",
   "execution_count": 39,
   "id": "02126e71",
   "metadata": {},
   "outputs": [
    {
     "data": {
      "image/png": "[encoded data removed]",
      "text/plain": [
       "<Figure size 936x1080 with 8 Axes>"
      ]
     },
     "metadata": {},
     "output_type": "display_data"
    }
   ],
   "source": [
    "import itertools\n",
    "import seaborn as sns;\n",
    "lst    = [model_lr,model_dt,model_rf, model_gnb]\n",
    "\n",
    "length = len(lst)\n",
    "\n",
    "mods   = ['Logistic Regression',\n",
    "          'Decision Tree','Random Forest Classifier', 'Naive Bayes']\n",
    "\n",
    "fig = plt.figure(figsize=(13,15))\n",
    "fig.set_facecolor(\"#F3F3F3\")\n",
    "for i,j,k in itertools.zip_longest(lst,range(length),mods) :\n",
    "    plt.subplot(5,3,j+1)\n",
    "    predictions = i.predict(X_test)\n",
    "    conf_matrix = confusion_matrix(predictions,y_test)\n",
    "    ax = sns.heatmap(conf_matrix,annot = True,fmt = \"d\",square =True,\n",
    "                xticklabels=[\"not churn\",\"churn\"],       \n",
    "                yticklabels=[\"not churn\",\"churn\"],\n",
    "                linewidths = 0.5, linecolor = \"w\",cmap = \"Set1\")\n",
    "    ax.set_ylim(0 ,2)\n",
    "    plt.title(k,color = \"b\")\n",
    "    plt.subplots_adjust( wspace = .3,hspace = .5)"
   ]
  },
  {
   "cell_type": "markdown",
   "id": "69dc3497",
   "metadata": {},
   "source": [
    "## Plottting Area Under Curve"
   ]
  },
  {
   "cell_type": "code",
   "execution_count": 40,
   "id": "621e8935",
   "metadata": {},
   "outputs": [
    {
     "data": {
      "image/png": "[encoded data removed]",
      "text/plain": [
       "<Figure size 960x1280 with 4 Axes>"
      ]
     },
     "metadata": {},
     "output_type": "display_data"
    }
   ],
   "source": [
    "plt.style.use(\"classic\")\n",
    "fig = plt.figure(figsize=(12,16))\n",
    "fig.set_facecolor(\"#F3F3F3\")\n",
    "for i,j,k in itertools.zip_longest(lst,range(length),mods):\n",
    "    qx = plt.subplot(4,3,j+1)\n",
    "    probabilities = i.predict_proba(X_test)\n",
    "    predictions   = i.predict(X_test)\n",
    "    fpr,tpr,thresholds = roc_curve(y_test,probabilities[:,1])\n",
    "    plt.plot(fpr,tpr,linestyle = \"dotted\",\n",
    "             color = \"k\",linewidth = 2,\n",
    "             label = \"AUC = \" + str(np.around(roc_auc_score(y_test,predictions),3)))\n",
    "    plt.plot([0,1],[0,1],linestyle = \"dashed\",\n",
    "             color = \"m\",linewidth = 0.8)\n",
    "    plt.fill_between(fpr,tpr,alpha = .4)\n",
    "    plt.fill_between([0,1],[0,1],color = \"w\")\n",
    "    plt.legend(loc = \"lower right\",\n",
    "               prop = {\"size\" : 12})\n",
    "    qx.set_facecolor(\"w\")\n",
    "    plt.grid(True,alpha = .15)\n",
    "    plt.title(k,color = \"k\")\n",
    "    plt.xticks(np.arange(0,1,.3))\n",
    "    plt.yticks(np.arange(0,1,.3))"
   ]
  },
  {
   "cell_type": "code",
   "execution_count": null,
   "id": "bf179b47",
   "metadata": {},
   "outputs": [],
   "source": []
  }
 ],
 "metadata": {
  "kernelspec": {
   "display_name": "Python 3",
   "language": "python",
   "name": "python3"
  },
  "language_info": {
   "codemirror_mode": {
    "name": "ipython",
    "version": 3
   },
   "file_extension": ".py",
   "mimetype": "text/x-python",
   "name": "python",
   "nbconvert_exporter": "python",
   "pygments_lexer": "ipython3",
   "version": "3.8.8"
  }
 },
 "nbformat": 4,
 "nbformat_minor": 5
}
